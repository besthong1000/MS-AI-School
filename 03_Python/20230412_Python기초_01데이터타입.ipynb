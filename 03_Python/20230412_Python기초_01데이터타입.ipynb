{
  "nbformat": 4,
  "nbformat_minor": 0,
  "metadata": {
    "colab": {
      "provenance": [],
      "authorship_tag": "ABX9TyPeEKEhmZp2PHpbxkYfRrGK",
      "include_colab_link": true
    },
    "kernelspec": {
      "name": "python3",
      "display_name": "Python 3"
    },
    "language_info": {
      "name": "python"
    }
  },
  "cells": [
    {
      "cell_type": "markdown",
      "metadata": {
        "id": "view-in-github",
        "colab_type": "text"
      },
      "source": [
        "<a href=\"https://colab.research.google.com/github/unihong/MS-AI-School/blob/main/0412_Python%EA%B8%B0%EC%B4%88_01%EB%8D%B0%EC%9D%B4%ED%84%B0%ED%83%80%EC%9E%85.ipynb\" target=\"_parent\"><img src=\"https://colab.research.google.com/assets/colab-badge.svg\" alt=\"Open In Colab\"/></a>"
      ]
    },
    {
      "cell_type": "code",
      "execution_count": null,
      "metadata": {
        "id": "g-wnOzCeDNuB"
      },
      "outputs": [],
      "source": [
        "print('Hello World')"
      ]
    },
    {
      "cell_type": "code",
      "source": [
        "#변수 규칙\n",
        "a = 1\n",
        "b = 2\n",
        "#2a = 3 항상 변수는 문자자로 시작해야 한다. \n",
        "student_count = 100 #가급적 풀 워드로 짓는다.\n",
        "address = ''        #가급적 정확한 영어로 짓는다.\n",
        "print(a * b, student_count)"
      ],
      "metadata": {
        "colab": {
          "base_uri": "https://localhost:8080/"
        },
        "id": "5YFLrhXtE4Z5",
        "outputId": "1e832e82-fe7d-4693-ef9c-565f0f0df759"
      },
      "execution_count": null,
      "outputs": [
        {
          "output_type": "stream",
          "name": "stdout",
          "text": [
            "2 100\n"
          ]
        }
      ]
    },
    {
      "cell_type": "code",
      "source": [
        "# 대소문자를 구별한다.\n",
        "friend =1\n",
        "Friend = 10\n",
        "print(friend)"
      ],
      "metadata": {
        "colab": {
          "base_uri": "https://localhost:8080/"
        },
        "id": "_mIOfnkvEJwP",
        "outputId": "3e26a52b-b734-430c-ae00-c2fb167af233"
      },
      "execution_count": null,
      "outputs": [
        {
          "output_type": "stream",
          "name": "stdout",
          "text": [
            "1\n"
          ]
        }
      ]
    },
    {
      "cell_type": "code",
      "source": [
        "#예약어는 사용할 수 없다.\n",
        "for = 1"
      ],
      "metadata": {
        "colab": {
          "base_uri": "https://localhost:8080/",
          "height": 136
        },
        "id": "HDrngED_Qvcg",
        "outputId": "b06e7a8c-c635-4037-c35f-c3c0769fd1bd"
      },
      "execution_count": null,
      "outputs": [
        {
          "output_type": "error",
          "ename": "SyntaxError",
          "evalue": "ignored",
          "traceback": [
            "\u001b[0;36m  File \u001b[0;32m\"<ipython-input-11-9b1cb4033c27>\"\u001b[0;36m, line \u001b[0;32m2\u001b[0m\n\u001b[0;31m    for = 1\u001b[0m\n\u001b[0m        ^\u001b[0m\n\u001b[0;31mSyntaxError\u001b[0m\u001b[0;31m:\u001b[0m invalid syntax\n"
          ]
        }
      ]
    },
    {
      "cell_type": "code",
      "source": [
        "#숫자형\n",
        "year = 2023\n",
        "month = 4\n",
        "print(year, month)"
      ],
      "metadata": {
        "colab": {
          "base_uri": "https://localhost:8080/"
        },
        "id": "Y_we1M4EQ_PW",
        "outputId": "e25b849f-cbae-4389-e121-7e4e41971967"
      },
      "execution_count": null,
      "outputs": [
        {
          "output_type": "stream",
          "name": "stdout",
          "text": [
            "2023 4\n"
          ]
        }
      ]
    },
    {
      "cell_type": "code",
      "source": [
        "year = 2023\n",
        "print(type(year)) #type()데이터의 타입을 확인하는 함수\n",
        "year = '이천이십삼년'\n",
        "print(type(year))"
      ],
      "metadata": {
        "colab": {
          "base_uri": "https://localhost:8080/"
        },
        "id": "q9MA1wglRVKs",
        "outputId": "825c00ca-83a8-4321-c1e8-e67450c64263"
      },
      "execution_count": null,
      "outputs": [
        {
          "output_type": "stream",
          "name": "stdout",
          "text": [
            "<class 'int'>\n",
            "<class 'str'>\n"
          ]
        }
      ]
    },
    {
      "cell_type": "code",
      "source": [
        "# 8진수\n",
        "# 정수 앞에 0o를 붙이면 8진수가 된다.\n",
        "print(0o10)\n",
        "#정수 앞에 0b를 붙이면 2진수\n",
        "#정수 앞에 0x를 붙이면 16진수\n",
        "print(0b10)\n",
        "print(0x10)"
      ],
      "metadata": {
        "colab": {
          "base_uri": "https://localhost:8080/"
        },
        "id": "VGxbBn1qRgJz",
        "outputId": "47383ab6-b936-4f1e-b3b0-267cc8848b95"
      },
      "execution_count": null,
      "outputs": [
        {
          "output_type": "stream",
          "name": "stdout",
          "text": [
            "8\n",
            "2\n",
            "16\n"
          ]
        }
      ]
    },
    {
      "cell_type": "code",
      "source": [
        "# 다음은 10진수를 받아서 각 진수를 변환하는 방법 (결과가 문자형)\n",
        "\n",
        "print((oct(38)))  #10진수 38을 8진수로 변환\n",
        "print((hex(38)))  #10진수 38을 16진수로 변환\n",
        "print((bin(38)))  #10진수 38을 2진수로 변환"
      ],
      "metadata": {
        "colab": {
          "base_uri": "https://localhost:8080/"
        },
        "id": "eMlBBrkTTay_",
        "outputId": "eb3727bf-2313-4422-9a2f-8b04b86e7b18"
      },
      "execution_count": null,
      "outputs": [
        {
          "output_type": "stream",
          "name": "stdout",
          "text": [
            "0o46\n",
            "0x26\n",
            "0b100110\n"
          ]
        }
      ]
    },
    {
      "cell_type": "code",
      "source": [
        "# 파이썬의 정수 타입\n",
        "print(type(1))      #int\n",
        "print(type(2**31))  #2의 31승 int 파이썬 3.0 int 형으로 정수형 통합합"
      ],
      "metadata": {
        "colab": {
          "base_uri": "https://localhost:8080/"
        },
        "id": "f3Hd8cbXUTFq",
        "outputId": "a99f6cb8-a405-4815-e60e-9da306f1722d"
      },
      "execution_count": null,
      "outputs": [
        {
          "output_type": "stream",
          "name": "stdout",
          "text": [
            "<class 'int'>\n",
            "<class 'int'>\n"
          ]
        }
      ]
    },
    {
      "cell_type": "code",
      "source": [
        "# 실수의 표현\n",
        "print(type(3.14))\n",
        "print(type(314e-2))\n",
        "print(type(3-4j))  #복소수\n",
        "x= 3-4j\n",
        "print(x.imag)    #imag는 허수부\n",
        "print(x.real)    #real는 실수부\n",
        "print(x.conjugate())    #conjuage는 켤레 복소수 확인"
      ],
      "metadata": {
        "colab": {
          "base_uri": "https://localhost:8080/"
        },
        "id": "-_ZtP_bIU8D4",
        "outputId": "4f025f56-5cff-4576-88f0-2c19fb1eadd1"
      },
      "execution_count": null,
      "outputs": [
        {
          "output_type": "stream",
          "name": "stdout",
          "text": [
            "<class 'float'>\n",
            "<class 'float'>\n",
            "<class 'complex'>\n",
            "-4.0\n",
            "3.0\n",
            "(3+4j)\n"
          ]
        }
      ]
    },
    {
      "cell_type": "code",
      "source": [
        "#원의 넓이와 삼각형의 넓이 구하기\n",
        "r = 2\n",
        "circle_area = (r ** 2) * 3.14\n",
        "print(circle_area)\n",
        "\n",
        "x = 3\n",
        "y = 4\n",
        "triangle_area = x * y / 2\n",
        "print(triangle_area)"
      ],
      "metadata": {
        "colab": {
          "base_uri": "https://localhost:8080/"
        },
        "id": "sAo_bV4_XTkR",
        "outputId": "3476dd26-5397-454b-f508-ca6627c52a36"
      },
      "execution_count": null,
      "outputs": [
        {
          "output_type": "stream",
          "name": "stdout",
          "text": [
            "12.56\n",
            "6.0\n"
          ]
        }
      ]
    },
    {
      "cell_type": "code",
      "source": [
        "#문자형 실습\n",
        "print('Hello World')\n",
        "print(\"Hello World\")\n",
        "print(\"Welcome to 'Python World'\")"
      ],
      "metadata": {
        "colab": {
          "base_uri": "https://localhost:8080/"
        },
        "id": "lw1V85h6o9LE",
        "outputId": "be8e2333-55e7-4b8c-8e00-20df3d8db2a4"
      },
      "execution_count": null,
      "outputs": [
        {
          "output_type": "stream",
          "name": "stdout",
          "text": [
            "Hello World\n",
            "Hello World\n",
            "Welcome to 'Python World'\n"
          ]
        }
      ]
    },
    {
      "cell_type": "code",
      "source": [
        "print('''\n",
        "항상 태양을 바라보아라\n",
        "그리하면 너는 그림자를 볼 수 없을 것이다.\n",
        "\n",
        "            -헬렌켈러\n",
        "''')"
      ],
      "metadata": {
        "colab": {
          "base_uri": "https://localhost:8080/"
        },
        "id": "lDdEVdHOprbR",
        "outputId": "220afc59-01ea-46c7-f962-5e54c6c8b48b"
      },
      "execution_count": null,
      "outputs": [
        {
          "output_type": "stream",
          "name": "stdout",
          "text": [
            "\n",
            "항상 태양을 바라보아라\n",
            "그리하면 너는 그림자를 볼 수 없을 것이다.\n",
            "\n",
            "            -헬렌켈러러\n",
            "\n"
          ]
        }
      ]
    },
    {
      "cell_type": "code",
      "source": [
        "print('t   \\n)"
      ],
      "metadata": {
        "id": "VncJ-G8PqAZi"
      },
      "execution_count": null,
      "outputs": []
    },
    {
      "cell_type": "code",
      "source": [
        "print('py' 'thon')\n",
        "print('py' + 'thon')"
      ],
      "metadata": {
        "colab": {
          "base_uri": "https://localhost:8080/"
        },
        "id": "M_YQhPOlqba4",
        "outputId": "a1413624-ad7d-4e03-d66a-b3b92456896f"
      },
      "execution_count": null,
      "outputs": [
        {
          "output_type": "stream",
          "name": "stdout",
          "text": [
            "python\n",
            "python\n"
          ]
        }
      ]
    },
    {
      "cell_type": "code",
      "source": [
        "print('py'* 3)"
      ],
      "metadata": {
        "colab": {
          "base_uri": "https://localhost:8080/"
        },
        "id": "BmlOzvefqs3J",
        "outputId": "b41a3d0b-55e1-4198-fa4f-85b3bbf6f53e"
      },
      "execution_count": null,
      "outputs": [
        {
          "output_type": "stream",
          "name": "stdout",
          "text": [
            "pypypy\n"
          ]
        }
      ]
    },
    {
      "cell_type": "code",
      "source": [
        "a = 'Python'\n",
        "print (a[0])"
      ],
      "metadata": {
        "colab": {
          "base_uri": "https://localhost:8080/"
        },
        "id": "H5jkPK9sq--J",
        "outputId": "b52331fa-719b-4128-a094-a1ba01bf2b2f"
      },
      "execution_count": null,
      "outputs": [
        {
          "output_type": "stream",
          "name": "stdout",
          "text": [
            "P\n"
          ]
        }
      ]
    },
    {
      "cell_type": "code",
      "source": [
        "print (a[0])\n",
        "print(a [0+1])"
      ],
      "metadata": {
        "colab": {
          "base_uri": "https://localhost:8080/",
          "height": 190
        },
        "id": "Cg1kW9N3rr4w",
        "outputId": "c89bb53e-e2be-4803-893c-6055aa4cf802"
      },
      "execution_count": null,
      "outputs": [
        {
          "output_type": "error",
          "ename": "TypeError",
          "evalue": "ignored",
          "traceback": [
            "\u001b[0;31m---------------------------------------------------------------------------\u001b[0m",
            "\u001b[0;31mTypeError\u001b[0m                                 Traceback (most recent call last)",
            "\u001b[0;32m<ipython-input-43-17834268e643>\u001b[0m in \u001b[0;36m<cell line: 1>\u001b[0;34m()\u001b[0m\n\u001b[0;32m----> 1\u001b[0;31m \u001b[0mprint\u001b[0m \u001b[0;34m(\u001b[0m\u001b[0ma\u001b[0m\u001b[0;34m[\u001b[0m\u001b[0;36m0\u001b[0m\u001b[0;34m]\u001b[0m\u001b[0;34m)\u001b[0m\u001b[0;34m\u001b[0m\u001b[0;34m\u001b[0m\u001b[0m\n\u001b[0m\u001b[1;32m      2\u001b[0m \u001b[0mprint\u001b[0m\u001b[0;34m(\u001b[0m\u001b[0ma\u001b[0m \u001b[0;34m[\u001b[0m\u001b[0;36m0\u001b[0m\u001b[0;34m+\u001b[0m\u001b[0;36m1\u001b[0m\u001b[0;34m]\u001b[0m\u001b[0;34m)\u001b[0m\u001b[0;34m\u001b[0m\u001b[0;34m\u001b[0m\u001b[0m\n",
            "\u001b[0;31mTypeError\u001b[0m: 'int' object is not subscriptable"
          ]
        }
      ]
    },
    {
      "cell_type": "code",
      "source": [
        "a[0] = 'A'  #index read-only "
      ],
      "metadata": {
        "id": "GAhZji2rsIPv"
      },
      "execution_count": null,
      "outputs": []
    },
    {
      "cell_type": "code",
      "source": [
        "#index를 이용해서 범위를 설정할 수 있다. \n",
        "print(a[0:1])\n",
        "print(a[1:4])\n",
        "print(a[:2])     #생략은 해당 방향의 끝을 나타낸다.\n",
        "print(a[2:])\n",
        "print(a[-2:])\n",
        "print(a[:])\n",
        "print(a[::2])"
      ],
      "metadata": {
        "colab": {
          "base_uri": "https://localhost:8080/"
        },
        "id": "CwJjOWEysQMA",
        "outputId": "58620c9b-e216-4047-9970-4eed7843762e"
      },
      "execution_count": null,
      "outputs": [
        {
          "output_type": "stream",
          "name": "stdout",
          "text": [
            "P\n",
            "yth\n",
            "Py\n",
            "thon\n",
            "on\n",
            "Python\n",
            "Pto\n"
          ]
        }
      ]
    },
    {
      "cell_type": "code",
      "source": [
        "#데이터 타입의 변환\n",
        "print(str(3.14))   #문자형으로 변환\n",
        "print(int('49'))   #정수형으로 변환\n",
        "print(float(23))   #실수형으로 변환환"
      ],
      "metadata": {
        "colab": {
          "base_uri": "https://localhost:8080/"
        },
        "id": "i4tSHny8uIyY",
        "outputId": "0aba5e83-0aa8-4078-aec3-26f7134825d6"
      },
      "execution_count": null,
      "outputs": [
        {
          "output_type": "stream",
          "name": "stdout",
          "text": [
            "3.14\n",
            "49\n",
            "23.0\n"
          ]
        }
      ]
    }
  ]
}
