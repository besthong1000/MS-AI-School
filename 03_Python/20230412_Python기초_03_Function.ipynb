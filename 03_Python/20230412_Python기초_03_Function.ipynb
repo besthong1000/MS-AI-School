{
  "nbformat": 4,
  "nbformat_minor": 0,
  "metadata": {
    "colab": {
      "provenance": [],
      "authorship_tag": "ABX9TyMhmKcszG/JEUi/6JkGjvx5",
      "include_colab_link": true
    },
    "kernelspec": {
      "name": "python3",
      "display_name": "Python 3"
    },
    "language_info": {
      "name": "python"
    }
  },
  "cells": [
    {
      "cell_type": "markdown",
      "metadata": {
        "id": "view-in-github",
        "colab_type": "text"
      },
      "source": [
        "<a href=\"https://colab.research.google.com/github/unihong/MS-AI-School/blob/main/230412_Python%EA%B8%B0%EC%B4%88_03_Function.ipynb\" target=\"_parent\"><img src=\"https://colab.research.google.com/assets/colab-badge.svg\" alt=\"Open In Colab\"/></a>"
      ]
    },
    {
      "cell_type": "code",
      "execution_count": null,
      "metadata": {
        "id": "-3rCeGBaWq08"
      },
      "outputs": [],
      "source": [
        "#Function\n",
        "\n",
        "def Times(a,b) : \n",
        "  result = a * b\n",
        "  return result\n"
      ]
    },
    {
      "cell_type": "code",
      "source": [
        "print(Times)"
      ],
      "metadata": {
        "colab": {
          "base_uri": "https://localhost:8080/"
        },
        "id": "OPVNUHOoXfqK",
        "outputId": "2e59e82a-f8ad-4573-eb48-70ad79e7bfce"
      },
      "execution_count": null,
      "outputs": [
        {
          "output_type": "stream",
          "name": "stdout",
          "text": [
            "<function Times at 0x7f90c0bdec10>\n"
          ]
        }
      ]
    },
    {
      "cell_type": "code",
      "source": [
        "print(Times(10,20))"
      ],
      "metadata": {
        "colab": {
          "base_uri": "https://localhost:8080/"
        },
        "id": "8ihq2wdrXnCh",
        "outputId": "cda4e6a5-6a84-411c-a0b1-82b078504b49"
      },
      "execution_count": null,
      "outputs": [
        {
          "output_type": "stream",
          "name": "stdout",
          "text": [
            "200\n"
          ]
        }
      ]
    },
    {
      "cell_type": "code",
      "source": [
        "#메모리 주소를 확인하는 명령\n",
        "print(id(Times))"
      ],
      "metadata": {
        "colab": {
          "base_uri": "https://localhost:8080/"
        },
        "id": "OjdRm-k-X1lJ",
        "outputId": "1810d27b-db00-44f8-dccc-adb08943e4e1"
      },
      "execution_count": null,
      "outputs": [
        {
          "output_type": "stream",
          "name": "stdout",
          "text": [
            "140259685690384\n"
          ]
        }
      ]
    },
    {
      "cell_type": "code",
      "source": [
        "globals()"
      ],
      "metadata": {
        "colab": {
          "base_uri": "https://localhost:8080/"
        },
        "id": "KNv_Cz2KYMCh",
        "outputId": "f3383a0b-6e9a-4a6d-df06-58e0b3442e5a"
      },
      "execution_count": null,
      "outputs": [
        {
          "output_type": "execute_result",
          "data": {
            "text/plain": [
              "{'__name__': '__main__',\n",
              " '__doc__': 'Automatically created module for IPython interactive environment',\n",
              " '__package__': None,\n",
              " '__loader__': None,\n",
              " '__spec__': None,\n",
              " '__builtin__': <module 'builtins' (built-in)>,\n",
              " '__builtins__': <module 'builtins' (built-in)>,\n",
              " '_ih': ['',\n",
              "  '#Function\\n\\ndef Times(a,b) : \\n  result = a * b\\n  return result\\n  ',\n",
              "  'print(Times)',\n",
              "  'Times(10,20)',\n",
              "  'print(Times(10,20))',\n",
              "  '#메모리 주소를 확인하는 명령\\nprint(id(Times))',\n",
              "  'globals()'],\n",
              " '_oh': {3: 200},\n",
              " '_dh': ['/content'],\n",
              " 'In': ['',\n",
              "  '#Function\\n\\ndef Times(a,b) : \\n  result = a * b\\n  return result\\n  ',\n",
              "  'print(Times)',\n",
              "  'Times(10,20)',\n",
              "  'print(Times(10,20))',\n",
              "  '#메모리 주소를 확인하는 명령\\nprint(id(Times))',\n",
              "  'globals()'],\n",
              " 'Out': {3: 200},\n",
              " 'get_ipython': <bound method InteractiveShell.get_ipython of <google.colab._shell.Shell object at 0x7f90ddbd7f10>>,\n",
              " 'exit': <IPython.core.autocall.ZMQExitAutocall at 0x7f90dd7d23a0>,\n",
              " 'quit': <IPython.core.autocall.ZMQExitAutocall at 0x7f90dd7d23a0>,\n",
              " '_': 200,\n",
              " '__': '',\n",
              " '___': '',\n",
              " '_i': '#메모리 주소를 확인하는 명령\\nprint(id(Times))',\n",
              " '_ii': 'print(Times(10,20))',\n",
              " '_iii': 'Times(10,20)',\n",
              " '_i1': '#Function\\n\\ndef Times(a,b) : \\n  result = a * b\\n  return result\\n  ',\n",
              " 'Times': <function __main__.Times(a, b)>,\n",
              " '_i2': 'print(Times)',\n",
              " '_i3': 'Times(10,20)',\n",
              " '_3': 200,\n",
              " '_i4': 'print(Times(10,20))',\n",
              " '_i5': '#메모리 주소를 확인하는 명령\\nprint(id(Times))',\n",
              " '_i6': 'globals()'}"
            ]
          },
          "metadata": {},
          "execution_count": 6
        }
      ]
    },
    {
      "cell_type": "code",
      "source": [
        "myTimes = Times\n",
        "print(myTimes(10,20))"
      ],
      "metadata": {
        "colab": {
          "base_uri": "https://localhost:8080/"
        },
        "id": "VPyMAyjTYat5",
        "outputId": "94d6a733-ea30-47e9-a408-24994e08045d"
      },
      "execution_count": null,
      "outputs": [
        {
          "output_type": "stream",
          "name": "stdout",
          "text": [
            "200\n"
          ]
        }
      ]
    },
    {
      "cell_type": "code",
      "source": [
        "print(id(myTimes))"
      ],
      "metadata": {
        "colab": {
          "base_uri": "https://localhost:8080/"
        },
        "id": "oXXiB3r8YrgA",
        "outputId": "ed6b37e6-4f3f-4b1a-abbb-7ea5237e8166"
      },
      "execution_count": null,
      "outputs": [
        {
          "output_type": "stream",
          "name": "stdout",
          "text": [
            "140259685690384\n"
          ]
        }
      ]
    },
    {
      "cell_type": "code",
      "source": [
        "a = 10\n",
        "b = 20\n",
        "def sum1(x, y) :\n",
        "  return x+y"
      ],
      "metadata": {
        "id": "bHRVrgLdaBVw"
      },
      "execution_count": null,
      "outputs": []
    },
    {
      "cell_type": "code",
      "source": [
        "print(sum1(a,b))"
      ],
      "metadata": {
        "colab": {
          "base_uri": "https://localhost:8080/"
        },
        "id": "tPRWpb4raO_c",
        "outputId": "41aead51-655e-4e9a-cb33-528bd0a2cbaf"
      },
      "execution_count": null,
      "outputs": [
        {
          "output_type": "stream",
          "name": "stdout",
          "text": [
            "30\n"
          ]
        }
      ]
    },
    {
      "cell_type": "code",
      "source": [
        "# 변수의 범위\n",
        "\n",
        "g = 10\n",
        "x = 20\n",
        "def sum2(x, y) :\n",
        "  global g\n",
        "  g = g+1\n",
        "  return x, y\n",
        "\n",
        "print(sum2(x, 20))\n",
        "print(g)"
      ],
      "metadata": {
        "colab": {
          "base_uri": "https://localhost:8080/"
        },
        "id": "fFbq_QzYaaSY",
        "outputId": "617e0dbb-7562-49a5-e9f1-94c7fef55e88"
      },
      "execution_count": null,
      "outputs": [
        {
          "output_type": "stream",
          "name": "stdout",
          "text": [
            "(20, 20)\n",
            "11\n"
          ]
        }
      ]
    },
    {
      "cell_type": "code",
      "source": [
        "# 함수의 인자 (Parameter)\n",
        "\n",
        "def Times (a = 10, b = 20):    #디폴트 값을 지정\n",
        "  return a * b\n",
        "\n",
        "print(Times(100, 200))\n",
        "print(Times(100))\n",
        "print(Times())\n",
        "print(Times(b=200))"
      ],
      "metadata": {
        "colab": {
          "base_uri": "https://localhost:8080/"
        },
        "id": "7Nqkk7gFcec4",
        "outputId": "ca4f7d70-dcd0-4249-8fc9-e85a904e6dd6"
      },
      "execution_count": null,
      "outputs": [
        {
          "output_type": "stream",
          "name": "stdout",
          "text": [
            "20000\n",
            "2000\n",
            "200\n",
            "2000\n"
          ]
        }
      ]
    },
    {
      "cell_type": "code",
      "source": [
        "def connectURL(protocol= 'https', server ='naver.com', port='80'):\n",
        "  address = protocol + '://' + server + ':' + port\n",
        "  return address\n",
        "\n",
        "print(connectURL(port = '8080'))"
      ],
      "metadata": {
        "colab": {
          "base_uri": "https://localhost:8080/"
        },
        "id": "yvlRT3e7dKev",
        "outputId": "2d2050ed-989d-4b52-efab-bb95c45a2caa"
      },
      "execution_count": null,
      "outputs": [
        {
          "output_type": "stream",
          "name": "stdout",
          "text": [
            "https://naver.com:8080\n"
          ]
        }
      ]
    },
    {
      "cell_type": "code",
      "source": [
        "#가변인자 함수\n",
        "def test(*args) :\n",
        "  print(type(args))\n",
        "  print(args)\n",
        "\n",
        "test(1,2,3,4,5)\n",
        "test(1,2,3)"
      ],
      "metadata": {
        "colab": {
          "base_uri": "https://localhost:8080/"
        },
        "id": "1-dTDNURh2CJ",
        "outputId": "ba0dc23e-3253-44cb-acf8-34c72c768ff9"
      },
      "execution_count": null,
      "outputs": [
        {
          "output_type": "stream",
          "name": "stdout",
          "text": [
            "<class 'tuple'>\n",
            "(1, 2, 3, 4, 5)\n",
            "<class 'tuple'>\n",
            "(1, 2, 3)\n"
          ]
        }
      ]
    }
  ]
}
