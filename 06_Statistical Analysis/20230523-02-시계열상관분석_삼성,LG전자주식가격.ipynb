{
 "cells": [
  {
   "cell_type": "code",
   "execution_count": 33,
   "metadata": {},
   "outputs": [
    {
     "name": "stdout",
     "output_type": "stream",
     "text": [
      "            005930.KS\n",
      "Date                 \n",
      "2021-01-04      86761\n",
      "2021-01-05      81116\n",
      "2021-01-06      86194\n",
      "2021-01-07      84108\n",
      "2021-01-08      80948\n",
      "...               ...\n",
      "2021-04-09      83804\n",
      "2021-04-10      86095\n",
      "2021-04-11      84777\n",
      "2021-04-12      88760\n",
      "2021-04-13      82893\n",
      "\n",
      "[100 rows x 1 columns]             066570.KS\n",
      "Date                 \n",
      "2021-01-04     158795\n",
      "2021-01-05     154573\n",
      "2021-01-06     142975\n",
      "2021-01-07     143799\n",
      "2021-01-08     142922\n",
      "...               ...\n",
      "2021-04-09     159582\n",
      "2021-04-10     149791\n",
      "2021-04-11     141602\n",
      "2021-04-12     141197\n",
      "2021-04-13     150018\n",
      "\n",
      "[100 rows x 1 columns]\n"
     ]
    }
   ],
   "source": [
    "import pandas as pd\n",
    "import random\n",
    "import os\n",
    "import numpy as np\n",
    "\n",
    "#랜덤하게 각 주식의 가격 100개의 데이터 생성\n",
    "#삼성\n",
    "dates = pd.date_range(start='2021-01-04', periods=100, freq='D')\n",
    "samsung_prices = [random.randint(80000,90000) for _ in range(100)]\n",
    "samsung_data = {'Date' : dates, '005930.KS' : samsung_prices}\n",
    "samsung_df = pd.DataFrame(samsung_data)\n",
    "samsung_df.set_index('Date', inplace=True)\n",
    "\n",
    "\n",
    "#LG\n",
    "\n",
    "lg_prices = [random.randint(140000,160000) for _ in range(100)]\n",
    "lg_data = {'Date' : dates, '066570.KS' : lg_prices}\n",
    "lg_df = pd.DataFrame(lg_data)\n",
    "lg_df.set_index('Date', inplace=True)\n",
    "\n",
    "print(samsung_df, lg_df)\n",
    "\n",
    "#두개의 프레임 합치기\n",
    "df = pd.concat((samsung_df, lg_df), axis=1)\n",
    "df = df.loc[:,['005930.KS', '066570.KS']]\n",
    "df.columns = ['samsung', 'LG']\n",
    "\n",
    "#폴더 생성\n",
    "os.makedirs(\"./data\", exist_ok=True)\n",
    "\n",
    "#저장\n",
    "df.to_csv(\"./data/stock_price.csv\")"
   ]
  },
  {
   "cell_type": "code",
   "execution_count": 34,
   "metadata": {},
   "outputs": [
    {
     "name": "stdout",
     "output_type": "stream",
     "text": [
      "            samsung      LG\n",
      "Date                       \n",
      "2021-01-04    86761  158795\n",
      "2021-01-05    81116  154573\n",
      "2021-01-06    86194  142975\n",
      "2021-01-07    84108  143799\n",
      "2021-01-08    80948  142922\n",
      "...             ...     ...\n",
      "2021-04-09    83804  159582\n",
      "2021-04-10    86095  149791\n",
      "2021-04-11    84777  141602\n",
      "2021-04-12    88760  141197\n",
      "2021-04-13    82893  150018\n",
      "\n",
      "[100 rows x 2 columns]\n",
      "<bound method NDFrame.pct_change of             samsung      LG\n",
      "Date                       \n",
      "2021-01-04    86761  158795\n",
      "2021-01-05    81116  154573\n",
      "2021-01-06    86194  142975\n",
      "2021-01-07    84108  143799\n",
      "2021-01-08    80948  142922\n",
      "...             ...     ...\n",
      "2021-04-09    83804  159582\n",
      "2021-04-10    86095  149791\n",
      "2021-04-11    84777  141602\n",
      "2021-04-12    88760  141197\n",
      "2021-04-13    82893  150018\n",
      "\n",
      "[100 rows x 2 columns]>\n"
     ]
    }
   ],
   "source": [
    "# csv 읽기\n",
    "df= pd.read_csv('./data/stock_price.csv')\n",
    "df['Date'] = pd.to_datetime(df['Date'])\n",
    "df.set_index('Date', inplace=True)\n",
    "print(df)\n",
    "\n",
    "#두 종목의 수익률 계산 \n",
    "returns = df.pct_change\n",
    "print(returns)\n"
   ]
  },
  {
   "cell_type": "code",
   "execution_count": 35,
   "metadata": {},
   "outputs": [
    {
     "ename": "NameError",
     "evalue": "name 'sns' is not defined",
     "output_type": "error",
     "traceback": [
      "\u001b[1;31m---------------------------------------------------------------------------\u001b[0m",
      "\u001b[1;31mNameError\u001b[0m                                 Traceback (most recent call last)",
      "Cell \u001b[1;32mIn[35], line 2\u001b[0m\n\u001b[0;32m      1\u001b[0m \u001b[39m# 히트맵 그리기\u001b[39;00m\n\u001b[1;32m----> 2\u001b[0m sns\u001b[39m.\u001b[39mheatmap(corr_matrix, annot\u001b[39m=\u001b[39m\u001b[39mTrue\u001b[39;00m, cmap\u001b[39m=\u001b[39m\u001b[39m'\u001b[39m\u001b[39mcoolwarm\u001b[39m\u001b[39m'\u001b[39m)\n\u001b[0;32m      3\u001b[0m plt\u001b[39m.\u001b[39mshow()\n",
      "\u001b[1;31mNameError\u001b[0m: name 'sns' is not defined"
     ]
    }
   ],
   "source": [
    "# 히트맵 그리기\n",
    "sns.heatmap(corr_matrix, annot=True, cmap='coolwarm')\n",
    "plt.show()"
   ]
  },
  {
   "cell_type": "code",
   "execution_count": null,
   "metadata": {},
   "outputs": [],
   "source": []
  }
 ],
 "metadata": {
  "kernelspec": {
   "display_name": "AI",
   "language": "python",
   "name": "ai"
  },
  "language_info": {
   "codemirror_mode": {
    "name": "ipython",
    "version": 3
   },
   "file_extension": ".py",
   "mimetype": "text/x-python",
   "name": "python",
   "nbconvert_exporter": "python",
   "pygments_lexer": "ipython3",
   "version": "3.10.9"
  },
  "orig_nbformat": 4
 },
 "nbformat": 4,
 "nbformat_minor": 2
}
