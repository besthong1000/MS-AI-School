{
 "cells": [
  {
   "cell_type": "code",
   "execution_count": 1,
   "metadata": {},
   "outputs": [],
   "source": [
    "import numpy as np\n",
    "import pandas as pd\n",
    "import matplotlib.pyplot as plt\n",
    "from statsmodels.tsa.arima.model import ARIMA"
   ]
  },
  {
   "cell_type": "code",
   "execution_count": 2,
   "metadata": {},
   "outputs": [],
   "source": [
    "# 시계열 데이터 생성\n",
    "np.random.seed(0)\n",
    "n = 100 #데이터 포인트 수 \n",
    "ar_params = [0,7] #자기회귀 계수\n",
    "ma_params = [0.4, -0.2]\n",
    "residuals = np.random.normal(0, 1, n) #전차 생성"
   ]
  },
  {
   "cell_type": "code",
   "execution_count": 4,
   "metadata": {},
   "outputs": [],
   "source": [
    "#ARMA (1,2) 모델 생성\n",
    "data = [0,0] #초기값 설정\n",
    "for i in range(2,n):\n",
    "    ar_term = ar_params[0] * data[i-1]\n",
    "    ma_term = ma_params[0] + residuals[i-1] + ma_params[1] * residuals[i-2]\n",
    "    data.append(ar_term + ma_term + residuals[i] )"
   ]
  },
  {
   "cell_type": "code",
   "execution_count": 5,
   "metadata": {},
   "outputs": [
    {
     "name": "stdout",
     "output_type": "stream",
     "text": [
      "       Value\n",
      "0   0.000000\n",
      "1   0.000000\n",
      "2   1.426085\n",
      "3   3.539600\n",
      "4   4.312704\n",
      "..       ...\n",
      "95  1.267612\n",
      "96  1.045800\n",
      "97  2.055056\n",
      "98  2.310683\n",
      "99  0.571727\n",
      "\n",
      "[100 rows x 1 columns]\n"
     ]
    }
   ],
   "source": [
    "#데이터프레임 생성\n",
    "df = pd.DataFrame({'Value' : data})\n",
    "print(df)"
   ]
  }
 ],
 "metadata": {
  "kernelspec": {
   "display_name": "AI",
   "language": "python",
   "name": "ai"
  },
  "language_info": {
   "codemirror_mode": {
    "name": "ipython",
    "version": 3
   },
   "file_extension": ".py",
   "mimetype": "text/x-python",
   "name": "python",
   "nbconvert_exporter": "python",
   "pygments_lexer": "ipython3",
   "version": "3.10.9"
  },
  "orig_nbformat": 4
 },
 "nbformat": 4,
 "nbformat_minor": 2
}
