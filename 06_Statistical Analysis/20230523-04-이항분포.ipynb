{
 "cells": [
  {
   "cell_type": "code",
   "execution_count": 1,
   "metadata": {},
   "outputs": [],
   "source": [
    "import numpy as np \n",
    "import matplotlib.pyplot as plt\n",
    "from scipy.stats import binom"
   ]
  },
  {
   "cell_type": "code",
   "execution_count": 2,
   "metadata": {},
   "outputs": [
    {
     "name": "stdout",
     "output_type": "stream",
     "text": [
      "[ 7  5  6  4  3  6  8  3  2  3  6  3  7  4  5  6  5  7  4  4  5  5  3  3\n",
      "  6  4  6  3  3  6  5  5  6 10  4  3  7  3  9  4  1  3  4  6  3  7  5  8\n",
      "  4  3  5  5  5  4  4  5  6  4  4  5  4  7  5  8  7  6  3  4  7  5  6  4\n",
      "  4  5  6  5  7  5  2  8  4  7  7  5  6  6  3  4  3  1  7  7  3  5  2  4\n",
      "  6  3  4  5  6  4  3  8  8  5  5  6  6  7  5  4  6  5  8  7  2  5  5  3\n",
      "  6  6  5  3  4  5  7  3  4  8  4  7  6  4  6  6  3  6  6  7  7  8  4  7\n",
      "  3  7  5  7  4  9  4  4  6  8  4  9  6  3  4  7  3  6  6  4  3  5  5  2\n",
      "  4  5  7  7  2  7  7  4  6  4  2  2  7  4  6  1  8  5  4  3  3  4  5  6\n",
      "  6  4  7  5  5  4  5  3  4  6  5  2  7  7  4  7  5  3  3  4  4  4  5  6\n",
      "  5  4  2  6  6  4  5  2  7  4  5  4  9  4  7  6  6  5  4  5  5  6  3  3\n",
      "  4  2  7  6  6  6  7  4  1  5  5  4  5  4  5  4  5  6  4  4  4  6  7  6\n",
      "  7  3  5  5  7  1  5  6  4  1  7  6  8  5  6  3  7  4  6  8  2  5  4  3\n",
      "  6  4  6  8  5  6  6  3  6  7  4  3  2  3  5  5  4  6  6  5  3  3  3  5\n",
      "  5  6  4  3  3  5  7  4  2  3  4  3  8  4  4  2  6  5  5  7  4  4  5  4\n",
      "  3  4  4  5  2  6  4  5  5  3  6  3  3  3  4  6  5  5  4  6  6  2  4  3\n",
      "  4  4  7  3  4  6  3  4  3  5  3  3  5  8  5  5  5  4  6  5  7  1  4  5\n",
      "  5  4  4  4  7  3  6  4  5  4  6  5  5  5  3  7  5  2  5  5  6  4  4  3\n",
      "  5  6  6  5  6  6  7  4  6  3  0  5  6  8  5  6  6  3  8  3  5  5  2  5\n",
      "  6  5  3  6  3  7  4  4  6  4  3  6  4  5  5  3  2  3  5  4  5  5  4  4\n",
      "  4  6  4  5  5  6  2  4  5  2  6  4  5  6  4  3  3  5  8  8  4  6  5  8\n",
      "  4  4  7  2  5  6  3  5  5  4  6  6  5  4  8  6  1  7  5  6  4  3  4  3\n",
      "  7  5  5  5  3  4  6  5  6  5  4  6  5  6  5  4  6  4  4  5  8  8  5  7\n",
      "  8  8  4  6  5  5  6  8  4  7  6  3  4  8  8  3  4  4  6  4  4  4  4  5\n",
      "  7  5  7  4  3  5  3  6  4  4  6  8  5  6  7  6  2  8  3  6  3  5  6  6\n",
      "  7  8  5  4  5  6  7  4  4  4  7  3  4  4  5  5  5  4  4  5  5  6  4  5\n",
      "  2  3  5  6  5  4  8  4  5  6  2  2  4  2  5  8  5  6  7  4  3  5  7  6\n",
      "  5  1  4  2  6  4  7  5  6  4  8  6  3  8  5  4  5  4  5  6  4  6  3  6\n",
      "  2  7  4  9  4  7  1  5  4  7  3  9  4  4  5  2  8  5  4  8  7  5  5  6\n",
      "  3  4  5  6  5  3  5  7  4  7  6  3  8  3  4  8  5  3  5  5  7  6  4  4\n",
      "  5  3  1  6  4  3  5  4  4  3  5  8  1  6  4  3  8  5  6  3  3  4  5  6\n",
      "  6  6  3  5  5  4  6  5  5  5  7  6  4  6  1  3  6  6  5  5  3  6  6  5\n",
      "  7  6  6  4  5  4  4  4  7  6  7  7  5  3  6  3  4  4  6  4  6  4  3  7\n",
      "  3  2  5  6  5  6  6  4  4  6  6  6  6  6  8  7  6  7  5  6  5  3  5  6\n",
      "  5  4  5  4  5  6  3  4  6  4  6  2  4  6  4  3  6  5  6  3  4  5  6  4\n",
      "  5  6  3  5  3  2  3  6  7  5  7  6  6  5  6  6  5  6  4  6  4  7  6  6\n",
      "  3  4  5  4  5  4  5  4  3  6  9  5  7  5  4  6  4  5  3  5  7  3  6  4\n",
      "  6  5  8  6  4  5  6  5  6  3  8  5  5  5  5  5  5  7  4  5  4  2  4  4\n",
      "  2  4  4  6  4  4  2  5  5  5  7  5  7  5  7  3  8  7  4  4  5  5  4  6\n",
      "  8  6  6  7  3  3  3  7  4  4  5  4  8  6  3  4  6  4  6  5  5  6  4  6\n",
      "  5  3  5  2  5  5  5  4  7  4  4  5  7  5  3  4  5  7  4  3  7  8  4  3\n",
      "  7  8  5  5  5  6  7  6  7  4  6  6  4  4  3  3  5  7  5  6  4  5  4  3\n",
      "  4  5  3  6  2  4  4  6  7  7  5  5  6  5  5  5]\n"
     ]
    },
    {
     "data": {
      "image/png": "[encoded data removed]",
      "text/plain": [
       "<Figure size 640x480 with 1 Axes>"
      ]
     },
     "metadata": {},
     "output_type": "display_data"
    }
   ],
   "source": [
    "# 이항 분포 모델링 \n",
    "n = 10 # 시행 횟수 \n",
    "p = 0.5 # 성공 확률 \n",
    "\n",
    "# 이항 분포 시물레이션 \n",
    "num_simulations = 1000 # 시물레이션 횟수 \n",
    "successes = np.random.binomial(n, p, num_simulations)\n",
    "\n",
    "print(successes)\n",
    "\n",
    "# 이항 분포 시물레이션 결과 시각화 \n",
    "plt.hist(successes, bins=11, range=(0,10), alpha=0.8)\n",
    "plt.show()"
   ]
  },
  {
   "cell_type": "code",
   "execution_count": null,
   "metadata": {},
   "outputs": [],
   "source": []
  }
 ],
 "metadata": {
  "kernelspec": {
   "display_name": "Python 3",
   "language": "python",
   "name": "python3"
  },
  "language_info": {
   "codemirror_mode": {
    "name": "ipython",
    "version": 3
   },
   "file_extension": ".py",
   "mimetype": "text/x-python",
   "name": "python",
   "nbconvert_exporter": "python",
   "pygments_lexer": "ipython3",
   "version": "3.10.11"
  },
  "orig_nbformat": 4
 },
 "nbformat": 4,
 "nbformat_minor": 2
}
