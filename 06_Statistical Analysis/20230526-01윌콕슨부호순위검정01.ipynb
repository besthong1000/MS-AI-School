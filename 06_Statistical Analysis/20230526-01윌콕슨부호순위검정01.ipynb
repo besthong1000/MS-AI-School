{
 "cells": [
  {
   "cell_type": "code",
   "execution_count": 3,
   "metadata": {},
   "outputs": [],
   "source": [
    "import numpy as np\n",
    "from scipy.stats import wilcoxon"
   ]
  },
  {
   "attachments": {},
   "cell_type": "markdown",
   "metadata": {},
   "source": [
    "#### 데이터 생성 (2개 필요)"
   ]
  },
  {
   "cell_type": "code",
   "execution_count": 4,
   "metadata": {},
   "outputs": [],
   "source": [
    "data1 = [20, 23,30, 35, 40, 45, 50, 55, 60, 65]\n",
    "data2 = [10, 20, 25, 30, 35, 40, 45, 50, 55, 60]"
   ]
  },
  {
   "attachments": {},
   "cell_type": "markdown",
   "metadata": {},
   "source": [
    "#### 윌콕슨 순위 검정 수행"
   ]
  },
  {
   "cell_type": "code",
   "execution_count": 7,
   "metadata": {},
   "outputs": [
    {
     "name": "stdout",
     "output_type": "stream",
     "text": [
      "0.0 0.001953125\n"
     ]
    }
   ],
   "source": [
    "stat, p = wilcoxon(data1, data2)\n",
    "print(stat, p)\n",
    "\n",
    "#stat은 두 집단 간의 순위 차이를 나타내고, p는 윌콕슨 순위합 검정 결과에서 귀무가설을 기각할 수 있는 유의성을 나타냅니다. "
   ]
  },
  {
   "cell_type": "code",
   "execution_count": 9,
   "metadata": {},
   "outputs": [
    {
     "name": "stdout",
     "output_type": "stream",
     "text": [
      "reject Ho\n"
     ]
    }
   ],
   "source": [
    "if p > 0.05 : \n",
    "    print('fail tp reject HO')\n",
    "else : \n",
    "    print(\"reject Ho\")"
   ]
  },
  {
   "cell_type": "code",
   "execution_count": null,
   "metadata": {},
   "outputs": [],
   "source": []
  }
 ],
 "metadata": {
  "kernelspec": {
   "display_name": "AI",
   "language": "python",
   "name": "ai"
  },
  "language_info": {
   "codemirror_mode": {
    "name": "ipython",
    "version": 3
   },
   "file_extension": ".py",
   "mimetype": "text/x-python",
   "name": "python",
   "nbconvert_exporter": "python",
   "pygments_lexer": "ipython3",
   "version": "3.10.9"
  },
  "orig_nbformat": 4
 },
 "nbformat": 4,
 "nbformat_minor": 2
}
