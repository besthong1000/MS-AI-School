{
 "cells": [
  {
   "cell_type": "code",
   "execution_count": 4,
   "metadata": {},
   "outputs": [],
   "source": [
    "import numpy as np\n",
    "from scipy import stats"
   ]
  },
  {
   "cell_type": "code",
   "execution_count": 5,
   "metadata": {},
   "outputs": [],
   "source": [
    "np.random.seed(42)\n",
    "#모수 검정용 데이터 생성\n",
    "n= 100\n",
    "mu1, mu2 = 0, 0.5\n",
    "sigma = 1\n",
    "data1 = np.random.normal(mu1, sigma, n)\n",
    "data2 = np.random.normal(mu2, sigma, n)"
   ]
  },
  {
   "cell_type": "code",
   "execution_count": 7,
   "metadata": {},
   "outputs": [
    {
     "name": "stdout",
     "output_type": "stream",
     "text": [
      "[0.95486528 0.73789692 0.55435405 0.61172075 0.41960006 0.24773099\n",
      " 0.35597268 0.75784611 0.01439349 0.11607264 0.04600264 0.0407288\n",
      " 0.85546058 0.70365786 0.47417383 0.09783416 0.49161588 0.47347177\n",
      " 0.17320187 0.43385165 0.39850473 0.6158501  0.63509365 0.04530401\n",
      " 0.37461261 0.62585992 0.50313626 0.85648984 0.65869363 0.16293443] [0.57056875 1.14241928 0.52651131 1.08577558 1.44023024 1.07547418\n",
      " 0.88816993 1.14328822 0.95825289 1.04561679 1.44146481 0.88610264\n",
      " 1.46119056 1.40535064 0.69579113 0.5693613  0.600778   0.51822183\n",
      " 0.59444296 1.18300677 0.57118865 0.81897563 1.34487531 0.52327194\n",
      " 1.31446848 0.78185477 0.61816483 1.19673717 1.12894285 1.37747201]\n"
     ]
    }
   ],
   "source": [
    "#비모수 검정용 데이터 생성\n",
    "m = 30\n",
    "data3 = np.random.uniform(0,1,m)\n",
    "data4 = np.random.uniform(0.5,1.5,m)\n",
    "\n",
    "print(data3, data4)"
   ]
  },
  {
   "cell_type": "code",
   "execution_count": 9,
   "metadata": {},
   "outputs": [
    {
     "name": "stdout",
     "output_type": "stream",
     "text": [
      "-4.754695943505288 3.819135262679343e-06\n"
     ]
    }
   ],
   "source": [
    "# 데이터 생성 완료 -> 모수 검정 실시 !!\n",
    "t_stat, p_val = stats.ttest_ind(data1, data2)\n",
    "print(t_stat, p_val)"
   ]
  },
  {
   "cell_type": "code",
   "execution_count": 10,
   "metadata": {},
   "outputs": [
    {
     "name": "stdout",
     "output_type": "stream",
     "text": [
      "114.0 7.04298006785356e-07\n"
     ]
    }
   ],
   "source": [
    "# 데이터 생성 완료 -> 비모수 검정 실시 !!\n",
    "u_stat, p_val = stats.mannwhitneyu(data3, data4)\n",
    "\n",
    "print(u_stat, p_val)"
   ]
  },
  {
   "cell_type": "code",
   "execution_count": null,
   "metadata": {},
   "outputs": [],
   "source": []
  }
 ],
 "metadata": {
  "kernelspec": {
   "display_name": "AI",
   "language": "python",
   "name": "ai"
  },
  "language_info": {
   "codemirror_mode": {
    "name": "ipython",
    "version": 3
   },
   "file_extension": ".py",
   "mimetype": "text/x-python",
   "name": "python",
   "nbconvert_exporter": "python",
   "pygments_lexer": "ipython3",
   "version": "3.10.9"
  },
  "orig_nbformat": 4
 },
 "nbformat": 4,
 "nbformat_minor": 2
}
