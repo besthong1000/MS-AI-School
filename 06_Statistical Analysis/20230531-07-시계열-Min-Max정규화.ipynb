{
 "cells": [
  {
   "attachments": {},
   "cell_type": "markdown",
   "metadata": {},
   "source": [
    "# 시계열 데이터를 활용하여 Min-Max 정규화 적용하는 실습"
   ]
  },
  {
   "cell_type": "code",
   "execution_count": 1,
   "metadata": {},
   "outputs": [],
   "source": [
    "import pandas as pd\n",
    "import numpy as np      "
   ]
  },
  {
   "cell_type": "code",
   "execution_count": 5,
   "metadata": {},
   "outputs": [
    {
     "name": "stdout",
     "output_type": "stream",
     "text": [
      "         Date  Value\n",
      "0  2023-01-01     80\n",
      "1  2023-01-02     44\n",
      "2  2023-01-03     57\n",
      "3  2023-01-04     32\n",
      "4  2023-01-05     79\n",
      "..        ...    ...\n",
      "95 2023-04-06      7\n",
      "96 2023-04-07     79\n",
      "97 2023-04-08     25\n",
      "98 2023-04-09     62\n",
      "99 2023-04-10     84\n",
      "\n",
      "[100 rows x 2 columns]\n",
      "2 99\n",
      "         Date  Value_Normalized\n",
      "0  2023-01-01          0.804124\n",
      "1  2023-01-02          0.432990\n",
      "2  2023-01-03          0.567010\n",
      "3  2023-01-04          0.309278\n",
      "4  2023-01-05          0.793814\n",
      "..        ...               ...\n",
      "95 2023-04-06          0.051546\n",
      "96 2023-04-07          0.793814\n",
      "97 2023-04-08          0.237113\n",
      "98 2023-04-09          0.618557\n",
      "99 2023-04-10          0.845361\n",
      "\n",
      "[100 rows x 2 columns]\n"
     ]
    }
   ],
   "source": [
    "# 시계열 데이터\n",
    "dates = pd.date_range(start='2023-01-01', periods=100, freq='D')\n",
    "values = np.random.randint(0, 100, size=100)\n",
    "\n",
    "# 데이터 프레임\n",
    "data = pd.DataFrame({\n",
    "    'Date' : dates,\n",
    "    'Value' : values\n",
    "})\n",
    "\n",
    "print(data)\n",
    "\n",
    "# Min-Max 정규화 수행\n",
    "min_val = data['Value'].min()\n",
    "max_val = data['Value'].max()\n",
    "\n",
    "print(min_val, max_val)\n",
    "data['Value_Normalized'] = (data['Value']- min_val) / (max_val - min_val)\n",
    "#공식 -> x_mew = (x -min) / (max - min)\n",
    "\n",
    "# 정규화 완료된 데이터 확인\n",
    "print(data[['Date', 'Value_Normalized']])"
   ]
  },
  {
   "cell_type": "code",
   "execution_count": null,
   "metadata": {},
   "outputs": [],
   "source": []
  }
 ],
 "metadata": {
  "kernelspec": {
   "display_name": "AI",
   "language": "python",
   "name": "ai"
  },
  "language_info": {
   "codemirror_mode": {
    "name": "ipython",
    "version": 3
   },
   "file_extension": ".py",
   "mimetype": "text/x-python",
   "name": "python",
   "nbconvert_exporter": "python",
   "pygments_lexer": "ipython3",
   "version": "3.10.9"
  },
  "orig_nbformat": 4
 },
 "nbformat": 4,
 "nbformat_minor": 2
}
