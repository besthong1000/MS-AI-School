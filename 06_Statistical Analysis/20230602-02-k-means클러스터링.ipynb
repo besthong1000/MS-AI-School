{
 "cells": [
  {
   "cell_type": "markdown",
   "metadata": {},
   "source": [
    "# K-means 클러스터링"
   ]
  },
  {
   "cell_type": "code",
   "execution_count": 3,
   "metadata": {},
   "outputs": [
    {
     "name": "stderr",
     "output_type": "stream",
     "text": [
      "c:\\Users\\besth\\anaconda3\\lib\\site-packages\\sklearn\\cluster\\_kmeans.py:870: FutureWarning: The default value of `n_init` will change from 10 to 'auto' in 1.4. Set the value of `n_init` explicitly to suppress the warning\n",
      "  warnings.warn(\n",
      "c:\\Users\\besth\\anaconda3\\lib\\site-packages\\sklearn\\cluster\\_kmeans.py:1382: UserWarning: KMeans is known to have a memory leak on Windows with MKL, when there are less chunks than available threads. You can avoid it by setting the environment variable OMP_NUM_THREADS=1.\n",
      "  warnings.warn(\n"
     ]
    },
    {
     "data": {
      "text/html": [
       "<style>#sk-container-id-2 {color: black;background-color: white;}#sk-container-id-2 pre{padding: 0;}#sk-container-id-2 div.sk-toggleable {background-color: white;}#sk-container-id-2 label.sk-toggleable__label {cursor: pointer;display: block;width: 100%;margin-bottom: 0;padding: 0.3em;box-sizing: border-box;text-align: center;}#sk-container-id-2 label.sk-toggleable__label-arrow:before {content: \"▸\";float: left;margin-right: 0.25em;color: #696969;}#sk-container-id-2 label.sk-toggleable__label-arrow:hover:before {color: black;}#sk-container-id-2 div.sk-estimator:hover label.sk-toggleable__label-arrow:before {color: black;}#sk-container-id-2 div.sk-toggleable__content {max-height: 0;max-width: 0;overflow: hidden;text-align: left;background-color: #f0f8ff;}#sk-container-id-2 div.sk-toggleable__content pre {margin: 0.2em;color: black;border-radius: 0.25em;background-color: #f0f8ff;}#sk-container-id-2 input.sk-toggleable__control:checked~div.sk-toggleable__content {max-height: 200px;max-width: 100%;overflow: auto;}#sk-container-id-2 input.sk-toggleable__control:checked~label.sk-toggleable__label-arrow:before {content: \"▾\";}#sk-container-id-2 div.sk-estimator input.sk-toggleable__control:checked~label.sk-toggleable__label {background-color: #d4ebff;}#sk-container-id-2 div.sk-label input.sk-toggleable__control:checked~label.sk-toggleable__label {background-color: #d4ebff;}#sk-container-id-2 input.sk-hidden--visually {border: 0;clip: rect(1px 1px 1px 1px);clip: rect(1px, 1px, 1px, 1px);height: 1px;margin: -1px;overflow: hidden;padding: 0;position: absolute;width: 1px;}#sk-container-id-2 div.sk-estimator {font-family: monospace;background-color: #f0f8ff;border: 1px dotted black;border-radius: 0.25em;box-sizing: border-box;margin-bottom: 0.5em;}#sk-container-id-2 div.sk-estimator:hover {background-color: #d4ebff;}#sk-container-id-2 div.sk-parallel-item::after {content: \"\";width: 100%;border-bottom: 1px solid gray;flex-grow: 1;}#sk-container-id-2 div.sk-label:hover label.sk-toggleable__label {background-color: #d4ebff;}#sk-container-id-2 div.sk-serial::before {content: \"\";position: absolute;border-left: 1px solid gray;box-sizing: border-box;top: 0;bottom: 0;left: 50%;z-index: 0;}#sk-container-id-2 div.sk-serial {display: flex;flex-direction: column;align-items: center;background-color: white;padding-right: 0.2em;padding-left: 0.2em;position: relative;}#sk-container-id-2 div.sk-item {position: relative;z-index: 1;}#sk-container-id-2 div.sk-parallel {display: flex;align-items: stretch;justify-content: center;background-color: white;position: relative;}#sk-container-id-2 div.sk-item::before, #sk-container-id-2 div.sk-parallel-item::before {content: \"\";position: absolute;border-left: 1px solid gray;box-sizing: border-box;top: 0;bottom: 0;left: 50%;z-index: -1;}#sk-container-id-2 div.sk-parallel-item {display: flex;flex-direction: column;z-index: 1;position: relative;background-color: white;}#sk-container-id-2 div.sk-parallel-item:first-child::after {align-self: flex-end;width: 50%;}#sk-container-id-2 div.sk-parallel-item:last-child::after {align-self: flex-start;width: 50%;}#sk-container-id-2 div.sk-parallel-item:only-child::after {width: 0;}#sk-container-id-2 div.sk-dashed-wrapped {border: 1px dashed gray;margin: 0 0.4em 0.5em 0.4em;box-sizing: border-box;padding-bottom: 0.4em;background-color: white;}#sk-container-id-2 div.sk-label label {font-family: monospace;font-weight: bold;display: inline-block;line-height: 1.2em;}#sk-container-id-2 div.sk-label-container {text-align: center;}#sk-container-id-2 div.sk-container {/* jupyter's `normalize.less` sets `[hidden] { display: none; }` but bootstrap.min.css set `[hidden] { display: none !important; }` so we also need the `!important` here to be able to override the default hidden behavior on the sphinx rendered scikit-learn.org. See: https://github.com/scikit-learn/scikit-learn/issues/21755 */display: inline-block !important;position: relative;}#sk-container-id-2 div.sk-text-repr-fallback {display: none;}</style><div id=\"sk-container-id-2\" class=\"sk-top-container\"><div class=\"sk-text-repr-fallback\"><pre>KMeans(n_clusters=4, random_state=777)</pre><b>In a Jupyter environment, please rerun this cell to show the HTML representation or trust the notebook. <br />On GitHub, the HTML representation is unable to render, please try loading this page with nbviewer.org.</b></div><div class=\"sk-container\" hidden><div class=\"sk-item\"><div class=\"sk-estimator sk-toggleable\"><input class=\"sk-toggleable__control sk-hidden--visually\" id=\"sk-estimator-id-2\" type=\"checkbox\" checked><label for=\"sk-estimator-id-2\" class=\"sk-toggleable__label sk-toggleable__label-arrow\">KMeans</label><div class=\"sk-toggleable__content\"><pre>KMeans(n_clusters=4, random_state=777)</pre></div></div></div></div></div>"
      ],
      "text/plain": [
       "KMeans(n_clusters=4, random_state=777)"
      ]
     },
     "execution_count": 3,
     "metadata": {},
     "output_type": "execute_result"
    }
   ],
   "source": [
    "from sklearn.datasets import make_blobs\n",
    "from sklearn.cluster import KMeans\n",
    "\n",
    "#데이터 랜덤하게 생성하기\n",
    "x, y = make_blobs(n_samples=100, centers=4, random_state=777)\n",
    "\n",
    "#KMeans 알고리즘 적용\n",
    "kMeans = KMeans(n_clusters=4, random_state=777)\n",
    "kMeans.fit(x)\n"
   ]
  },
  {
   "cell_type": "code",
   "execution_count": 4,
   "metadata": {},
   "outputs": [
    {
     "name": "stdout",
     "output_type": "stream",
     "text": [
      "군집 중심점\n",
      "[[ 7.0817137   8.92338307]\n",
      " [-8.74351865 -0.69795697]\n",
      " [ 4.69354389  5.31392297]\n",
      " [-7.00167837 -3.94565715]]\n"
     ]
    }
   ],
   "source": [
    "# 군집 중심점 확인\n",
    "centroids = kMeans.cluster_centers_\n",
    "print(\"군집 중심점\")\n",
    "print(centroids)"
   ]
  },
  {
   "cell_type": "code",
   "execution_count": 5,
   "metadata": {},
   "outputs": [
    {
     "name": "stdout",
     "output_type": "stream",
     "text": [
      "[0 3 1 2 1 1 3 1 1 0 0 0 2 0 2 2 2 3 2 3 1 3 0 2 1 3 0 2 2 2 1 1 1 1 1 2 3\n",
      " 3 0 3 3 2 3 1 1 3 0 0 3 1 2 1 1 3 2 2 1 2 1 3 3 0 2 3 0 3 2 1 0 2 1 3 3 1\n",
      " 3 0 1 2 2 2 0 2 2 2 0 1 0 3 2 0 0 0 2 3 3 3 0 3 0 0]\n"
     ]
    }
   ],
   "source": [
    "#군빔 예측 결과 확인\n",
    "labels = kMeans.labels_\n",
    "print(labels)"
   ]
  },
  {
   "cell_type": "code",
   "execution_count": 7,
   "metadata": {},
   "outputs": [
    {
     "name": "stdout",
     "output_type": "stream",
     "text": [
      "군집 1\n",
      "중심점 [7.0817137  8.92338307]\n",
      "데이터 개수 : 23\n",
      "데이터 : [[ 6.61052651  8.73651209]\n",
      " [ 6.82624628  8.00504795]\n",
      " [ 8.42830031  9.24087745]\n",
      " [ 6.59773537  8.4272635 ]\n",
      " [ 7.35178418  9.03744809]\n",
      " [ 6.28941449  8.86341031]\n",
      " [ 6.52455831  8.54820454]\n",
      " [ 7.79151182  9.07411792]\n",
      " [ 7.20219752 10.14559429]\n",
      " [ 6.43821238  8.13654082]\n",
      " [ 6.26699326  9.63095959]\n",
      " [ 8.16804523  7.52856238]\n",
      " [ 6.83006335  6.868127  ]\n",
      " [ 6.69551856  7.99852137]\n",
      " [ 7.84865893  8.92582565]\n",
      " [ 6.47966318  7.92494262]\n",
      " [ 8.12885039  9.67761727]\n",
      " [ 7.61182199  9.56896894]\n",
      " [ 5.76092844  9.07612959]\n",
      " [ 7.23911477  9.08353465]\n",
      " [ 7.15453571 11.01717375]\n",
      " [ 6.0500431   9.50211416]\n",
      " [ 8.5846909  10.22031671]]\n",
      "----------------------------\n",
      "군집 2\n",
      "중심점 [-8.74351865 -0.69795697]\n",
      "데이터 개수 : 24\n",
      "데이터 : [[ -8.84104244  -1.1867116 ]\n",
      " [ -8.11328898  -1.07832631]\n",
      " [ -8.20611436  -1.61832915]\n",
      " [ -9.138482     1.16524185]\n",
      " [ -8.01356431  -1.11441447]\n",
      " [ -9.16105388  -1.50003843]\n",
      " [ -8.99749688  -0.79400455]\n",
      " [ -8.46952367  -1.40906312]\n",
      " [ -8.30866205  -0.39405235]\n",
      " [ -8.60165839   0.37203159]\n",
      " [ -9.66556389  -2.26491805]\n",
      " [ -9.09010271  -0.83773533]\n",
      " [ -9.73087649  -0.74862832]\n",
      " [ -8.98533722  -1.68142348]\n",
      " [ -8.55677476  -0.43009589]\n",
      " [ -7.3479709   -0.92931089]\n",
      " [ -7.43836168  -1.65083046]\n",
      " [ -9.43683658   0.72001064]\n",
      " [ -7.77792573  -0.06633085]\n",
      " [ -9.81033709  -1.87928999]\n",
      " [-10.18881322   0.21463404]\n",
      " [ -8.23880332  -0.39908865]\n",
      " [ -9.02767598   0.38868435]\n",
      " [ -8.69818096   0.37102221]]\n",
      "----------------------------\n",
      "군집 3\n",
      "중심점 [4.69354389 5.31392297]\n",
      "데이터 개수 : 27\n",
      "데이터 : [[5.23191287 4.19859264]\n",
      " [4.75172468 6.72902619]\n",
      " [4.85121032 3.01133048]\n",
      " [4.55640987 4.95023994]\n",
      " [3.56651892 6.70753336]\n",
      " [4.05995797 4.57578376]\n",
      " [5.07091655 6.00282525]\n",
      " [5.38983416 6.75901485]\n",
      " [5.49306171 6.72194825]\n",
      " [4.09145482 4.93542416]\n",
      " [4.73568328 6.90500648]\n",
      " [5.15521233 4.72845513]\n",
      " [4.26248126 6.5270087 ]\n",
      " [4.11509597 3.64220094]\n",
      " [5.0370471  5.81955507]\n",
      " [3.93601285 5.85044801]\n",
      " [3.5696228  5.37382837]\n",
      " [4.12631409 4.85594518]\n",
      " [4.5167618  4.57450196]\n",
      " [4.27141907 6.184219  ]\n",
      " [5.67088171 4.24172226]\n",
      " [3.83185695 5.2082241 ]\n",
      " [5.4466045  6.69822485]\n",
      " [4.06903976 4.86714519]\n",
      " [7.07257408 5.99344635]\n",
      " [5.401452   3.26314962]\n",
      " [4.44462356 4.1511202 ]]\n",
      "----------------------------\n",
      "군집 4\n",
      "중심점 [-7.00167837 -3.94565715]\n",
      "데이터 개수 : 26\n",
      "데이터 : [[-5.98593214 -3.89438491]\n",
      " [-6.40191585 -2.0577069 ]\n",
      " [-5.49214362 -4.0912795 ]\n",
      " [-6.852025   -5.49567941]\n",
      " [-7.21800431 -4.55270778]\n",
      " [-6.10555668 -5.4856298 ]\n",
      " [-4.4673557  -3.49600105]\n",
      " [-8.69916983 -2.95041874]\n",
      " [-5.14236184 -1.89661755]\n",
      " [-6.03193804 -3.68782688]\n",
      " [-7.22830956 -2.2084151 ]\n",
      " [-7.71608276 -5.35596372]\n",
      " [-6.49063439 -4.41424207]\n",
      " [-7.39020747 -4.00019297]\n",
      " [-7.57919281 -4.51174147]\n",
      " [-6.12067123 -5.27655059]\n",
      " [-6.60385342 -4.68048629]\n",
      " [-7.26059808 -3.93183043]\n",
      " [-8.97362943 -3.6225254 ]\n",
      " [-7.39275747 -3.63367067]\n",
      " [-6.18904094 -4.10495373]\n",
      " [-7.62096421 -3.36446658]\n",
      " [-8.22056919 -3.02058813]\n",
      " [-8.3506714  -5.193479  ]\n",
      " [-8.33009545 -3.267356  ]\n",
      " [-8.17995669 -4.39237133]]\n",
      "----------------------------\n"
     ]
    }
   ],
   "source": [
    "for i in range(len(centroids)) : \n",
    "    cluster_data = x[labels == i]  #해당 군집에 속하는 데이터\n",
    "    cluster_center = centroids[i]  #해당 군집의 중심점\n",
    "\n",
    "    print(f\"군집 {i+1}\")\n",
    "    print(f\"중심점 {cluster_center}\")\n",
    "    print(f\"데이터 개수 : {len(cluster_data)}\")\n",
    "    print(f\"데이터 : {cluster_data}\")\n",
    "    print(\"----------------------------\")"
   ]
  }
 ],
 "metadata": {
  "kernelspec": {
   "display_name": "AI",
   "language": "python",
   "name": "ai"
  },
  "language_info": {
   "codemirror_mode": {
    "name": "ipython",
    "version": 3
   },
   "file_extension": ".py",
   "mimetype": "text/x-python",
   "name": "python",
   "nbconvert_exporter": "python",
   "pygments_lexer": "ipython3",
   "version": "3.10.9"
  },
  "orig_nbformat": 4
 },
 "nbformat": 4,
 "nbformat_minor": 2
}
