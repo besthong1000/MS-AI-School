{
  "nbformat": 4,
  "nbformat_minor": 0,
  "metadata": {
    "colab": {
      "provenance": [],
      "authorship_tag": "ABX9TyNIvSmCd1tqBqee5lDb6vti",
      "include_colab_link": true
    },
    "kernelspec": {
      "name": "python3",
      "display_name": "Python 3"
    },
    "language_info": {
      "name": "python"
    }
  },
  "cells": [
    {
      "cell_type": "markdown",
      "metadata": {
        "id": "view-in-github",
        "colab_type": "text"
      },
      "source": [
        "<a href=\"https://colab.research.google.com/github/unihong/MS-AI-School/blob/main/20230510_ML_keras_03.ipynb\" target=\"_parent\"><img src=\"https://colab.research.google.com/assets/colab-badge.svg\" alt=\"Open In Colab\"/></a>"
      ]
    },
    {
      "cell_type": "code",
      "execution_count": null,
      "metadata": {
        "id": "B3wFUUucjz1L",
        "colab": {
          "base_uri": "https://localhost:8080/"
        },
        "outputId": "68829675-b002-4f49-ac4f-ed81864bc3b0"
      },
      "outputs": [
        {
          "output_type": "stream",
          "name": "stdout",
          "text": [
            "Downloading data from https://storage.googleapis.com/tensorflow/tf-keras-datasets/reuters.npz\n",
            "2110848/2110848 [==============================] - 1s 0us/step\n"
          ]
        }
      ],
      "source": [
        "from keras.datasets import reuters\n",
        "(train_data, train_labels),(test_data, test_labels) = reuters.load_data(num_words=10000)"
      ]
    },
    {
      "cell_type": "code",
      "source": [
        "print(train_data.shape)\n",
        "print(test_data.shape)"
      ],
      "metadata": {
        "colab": {
          "base_uri": "https://localhost:8080/"
        },
        "id": "dxYEsomIl8fo",
        "outputId": "02a43fc8-afcc-49e6-84c5-7256b75ecb63"
      },
      "execution_count": null,
      "outputs": [
        {
          "output_type": "stream",
          "name": "stdout",
          "text": [
            "(8982,)\n",
            "(2246,)\n"
          ]
        }
      ]
    },
    {
      "cell_type": "code",
      "source": [
        "import numpy as np\n",
        "\n",
        "def vectorize_sequences(sequences, dimension=10000):\n",
        "  results = np.zeros((len(sequences), dimension))\n",
        "\n",
        "  for i, sequence in enumerate(sequences):\n",
        "    results[i, sequence] = 1\n",
        "  \n",
        "  return results"
      ],
      "metadata": {
        "id": "YSYFQrqEmeyE"
      },
      "execution_count": null,
      "outputs": []
    },
    {
      "cell_type": "code",
      "source": [
        "# 훈련데이터와 테스트 데이터의 벡터 변환 \n",
        "x_train = vectorize_sequences(train_data)\n",
        "x_test = vectorize_sequences(test_data)"
      ],
      "metadata": {
        "id": "-tkvsixSoURd"
      },
      "execution_count": null,
      "outputs": []
    },
    {
      "cell_type": "code",
      "source": [
        "# 라벨 데이터를 카테고리 데이터로 전환 \n",
        "from keras.utils.np_utils import to_categorical\n",
        "\n",
        "one_hot_train_labels = to_categorical(train_labels)\n",
        "one_hot_test_labels = to_categorical(test_labels)"
      ],
      "metadata": {
        "id": "igZK1cN0pOR7"
      },
      "execution_count": null,
      "outputs": []
    },
    {
      "cell_type": "code",
      "source": [
        "# 모델 구성\n",
        "from keras import models\n",
        "from keras import layers\n",
        "\n",
        "model = models.Sequential()\n",
        "model.add(layers.Dense(64, activation='relu', input_shape=(10000,)))\n",
        "model.add(layers.Dense(64, activation='relu'))\n",
        "model.add(layers.Dense(46, activation='softmax'))"
      ],
      "metadata": {
        "id": "-g2V83_zlufT"
      },
      "execution_count": null,
      "outputs": []
    },
    {
      "cell_type": "code",
      "source": [
        "model.compile(optimizer='rmsprop',\n",
        "             loss='categorical_crossentropy',\n",
        "             metrics=['accuracy'])"
      ],
      "metadata": {
        "id": "GjaZMY8fGi67"
      },
      "execution_count": null,
      "outputs": []
    },
    {
      "cell_type": "code",
      "source": [
        "x_val = x_train[:1000]\n",
        "partial_x_train = x_train[1000:]\n",
        "y_val = one_hot_train_labels[:1000]\n",
        "partial_y_train = one_hot_train_labels[1000:]"
      ],
      "metadata": {
        "id": "WcOYtPd0GkzY"
      },
      "execution_count": null,
      "outputs": []
    },
    {
      "cell_type": "code",
      "source": [
        "history = model.fit(partial_x_train, \n",
        "                    partial_y_train,\n",
        "                    epochs=20,\n",
        "                    batch_size=512,\n",
        "                    validation_data=(x_val, y_val))"
      ],
      "metadata": {
        "colab": {
          "base_uri": "https://localhost:8080/"
        },
        "id": "pVh5AVN0Gmvq",
        "outputId": "466868fb-42b8-45d7-a9a8-c335bb1c14fa"
      },
      "execution_count": null,
      "outputs": [
        {
          "output_type": "stream",
          "name": "stdout",
          "text": [
            "Epoch 1/20\n",
            "16/16 [==============================] - 3s 123ms/step - loss: 2.9830 - accuracy: 0.4756 - val_loss: 2.0094 - val_accuracy: 0.6250\n",
            "Epoch 2/20\n",
            "16/16 [==============================] - 2s 100ms/step - loss: 1.6339 - accuracy: 0.6773 - val_loss: 1.4354 - val_accuracy: 0.6830\n",
            "Epoch 3/20\n",
            "16/16 [==============================] - 1s 59ms/step - loss: 1.2246 - accuracy: 0.7344 - val_loss: 1.2201 - val_accuracy: 0.7270\n",
            "Epoch 4/20\n",
            "16/16 [==============================] - 1s 61ms/step - loss: 0.9974 - accuracy: 0.7864 - val_loss: 1.1201 - val_accuracy: 0.7600\n",
            "Epoch 5/20\n",
            "16/16 [==============================] - 1s 58ms/step - loss: 0.8258 - accuracy: 0.8251 - val_loss: 1.0245 - val_accuracy: 0.7840\n",
            "Epoch 6/20\n",
            "16/16 [==============================] - 1s 61ms/step - loss: 0.6987 - accuracy: 0.8479 - val_loss: 0.9540 - val_accuracy: 0.7990\n",
            "Epoch 7/20\n",
            "16/16 [==============================] - 1s 60ms/step - loss: 0.5913 - accuracy: 0.8763 - val_loss: 0.9222 - val_accuracy: 0.7990\n",
            "Epoch 8/20\n",
            "16/16 [==============================] - 1s 60ms/step - loss: 0.4929 - accuracy: 0.8971 - val_loss: 0.8914 - val_accuracy: 0.8000\n",
            "Epoch 9/20\n",
            "16/16 [==============================] - 1s 60ms/step - loss: 0.4227 - accuracy: 0.9100 - val_loss: 0.8685 - val_accuracy: 0.8090\n",
            "Epoch 10/20\n",
            "16/16 [==============================] - 1s 63ms/step - loss: 0.3635 - accuracy: 0.9222 - val_loss: 0.8762 - val_accuracy: 0.8090\n",
            "Epoch 11/20\n",
            "16/16 [==============================] - 1s 64ms/step - loss: 0.3137 - accuracy: 0.9325 - val_loss: 0.8664 - val_accuracy: 0.8140\n",
            "Epoch 12/20\n",
            "16/16 [==============================] - 1s 58ms/step - loss: 0.2677 - accuracy: 0.9412 - val_loss: 0.8671 - val_accuracy: 0.8100\n",
            "Epoch 13/20\n",
            "16/16 [==============================] - 1s 96ms/step - loss: 0.2423 - accuracy: 0.9442 - val_loss: 0.8954 - val_accuracy: 0.8000\n",
            "Epoch 14/20\n",
            "16/16 [==============================] - 2s 100ms/step - loss: 0.2173 - accuracy: 0.9476 - val_loss: 0.9356 - val_accuracy: 0.8050\n",
            "Epoch 15/20\n",
            "16/16 [==============================] - 1s 68ms/step - loss: 0.1955 - accuracy: 0.9503 - val_loss: 0.8719 - val_accuracy: 0.8100\n",
            "Epoch 16/20\n",
            "16/16 [==============================] - 1s 59ms/step - loss: 0.1799 - accuracy: 0.9530 - val_loss: 0.8840 - val_accuracy: 0.8030\n",
            "Epoch 17/20\n",
            "16/16 [==============================] - 1s 59ms/step - loss: 0.1651 - accuracy: 0.9540 - val_loss: 0.9372 - val_accuracy: 0.8150\n",
            "Epoch 18/20\n",
            "16/16 [==============================] - 1s 61ms/step - loss: 0.1568 - accuracy: 0.9572 - val_loss: 0.9711 - val_accuracy: 0.7940\n",
            "Epoch 19/20\n",
            "16/16 [==============================] - 1s 59ms/step - loss: 0.1472 - accuracy: 0.9559 - val_loss: 0.9411 - val_accuracy: 0.8060\n",
            "Epoch 20/20\n",
            "16/16 [==============================] - 1s 59ms/step - loss: 0.1423 - accuracy: 0.9548 - val_loss: 0.9144 - val_accuracy: 0.8020\n"
          ]
        }
      ]
    },
    {
      "cell_type": "code",
      "source": [
        "import matplotlib.pyplot as plt"
      ],
      "metadata": {
        "id": "AfZAsJVCGrTs"
      },
      "execution_count": null,
      "outputs": []
    },
    {
      "cell_type": "code",
      "source": [
        "loss = history.history['loss']\n",
        "val_loss = history.history['val_loss']\n",
        "acc = history.history['accuracy']\n",
        "val_acc = history.history['val_accuracy']"
      ],
      "metadata": {
        "id": "_pjS2fljGyUE"
      },
      "execution_count": null,
      "outputs": []
    },
    {
      "cell_type": "code",
      "source": [
        "epochs = range(1, len(loss)+1)\n",
        "\n",
        "plt.plot(epochs, loss, 'bo', label='Training loss')\n",
        "plt.plot(epochs, val_loss, 'r-', label='Validation loss')\n",
        "plt.title('Training and validation loss')\n",
        "plt.xlabel('Epochs')\n",
        "plt.ylabel('Loss')\n",
        "plt.legend()"
      ],
      "metadata": {
        "colab": {
          "base_uri": "https://localhost:8080/",
          "height": 491
        },
        "id": "CvwEcS5tG0W-",
        "outputId": "7f5229cf-af0e-489a-9c09-5317ac2b7bca"
      },
      "execution_count": null,
      "outputs": [
        {
          "output_type": "execute_result",
          "data": {
            "text/plain": [
              "<matplotlib.legend.Legend at 0x7f8c1e94f160>"
            ]
          },
          "metadata": {},
          "execution_count": 20
        },
        {
          "output_type": "display_data",
          "data": {
            "text/plain": [
              "<Figure size 640x480 with 1 Axes>"
            ],
            "image/png": "[encoded data removed]"
          },
          "metadata": {}
        }
      ]
    },
    {
      "cell_type": "code",
      "source": [
        "plt.plot(epochs, acc, 'bo', label='Training accuracy')\n",
        "plt.plot(epochs, val_acc, 'r-', label='Validation accuracy')\n",
        "plt.title('Training and validation accuracy')\n",
        "plt.xlabel('Epochs')\n",
        "plt.ylabel('Accuracy')\n",
        "plt.legend()"
      ],
      "metadata": {
        "colab": {
          "base_uri": "https://localhost:8080/",
          "height": 491
        },
        "id": "0yd18pjuG4I7",
        "outputId": "35b58c29-b3c2-405d-f03d-f528d81dfa3b"
      },
      "execution_count": null,
      "outputs": [
        {
          "output_type": "execute_result",
          "data": {
            "text/plain": [
              "<matplotlib.legend.Legend at 0x7f8c1d797cd0>"
            ]
          },
          "metadata": {},
          "execution_count": 21
        },
        {
          "output_type": "display_data",
          "data": {
            "text/plain": [
              "<Figure size 640x480 with 1 Axes>"
            ],
            "image/png": "[encoded data removed]"
          },
          "metadata": {}
        }
      ]
    },
    {
      "cell_type": "code",
      "source": [
        "# 검증 된 결과로 다시 학습 \n",
        "\n",
        "model = models.Sequential()\n",
        "model.add(layers.Dense(64, activation='relu', input_shape=(10000,)))\n",
        "model.add(layers.Dense(64, activation='relu'))\n",
        "model.add(layers.Dense(46, activation='softmax'))\n",
        "\n",
        "model.compile(optimizer='rmsprop',\n",
        "             loss='categorical_crossentropy',\n",
        "             metrics=['accuracy'])\n",
        "\n",
        "history = model.fit(partial_x_train, \n",
        "                    partial_y_train,\n",
        "                    epochs=10,\n",
        "                    batch_size=512,\n",
        "                    validation_data=(x_val, y_val))\n",
        "\n",
        "eval_result = model.evaluate(x_test, one_hot_test_labels)\n",
        "print(eval_result)"
      ],
      "metadata": {
        "colab": {
          "base_uri": "https://localhost:8080/"
        },
        "id": "CuiWmR_DJPB3",
        "outputId": "a5f1a181-42b4-4f7b-cd36-6e9974f7dda8"
      },
      "execution_count": null,
      "outputs": [
        {
          "output_type": "stream",
          "name": "stdout",
          "text": [
            "Epoch 1/10\n",
            "16/16 [==============================] - 2s 84ms/step - loss: 2.8023 - accuracy: 0.5029 - val_loss: 1.8616 - val_accuracy: 0.6220\n",
            "Epoch 2/10\n",
            "16/16 [==============================] - 3s 168ms/step - loss: 1.5533 - accuracy: 0.6800 - val_loss: 1.4043 - val_accuracy: 0.6990\n",
            "Epoch 3/10\n",
            "16/16 [==============================] - 2s 133ms/step - loss: 1.1858 - accuracy: 0.7477 - val_loss: 1.1974 - val_accuracy: 0.7420\n",
            "Epoch 4/10\n",
            "16/16 [==============================] - 1s 59ms/step - loss: 0.9697 - accuracy: 0.7883 - val_loss: 1.1334 - val_accuracy: 0.7350\n",
            "Epoch 5/10\n",
            "16/16 [==============================] - 1s 60ms/step - loss: 0.8085 - accuracy: 0.8267 - val_loss: 1.0317 - val_accuracy: 0.7770\n",
            "Epoch 6/10\n",
            "16/16 [==============================] - 1s 60ms/step - loss: 0.6717 - accuracy: 0.8596 - val_loss: 0.9827 - val_accuracy: 0.7880\n",
            "Epoch 7/10\n",
            "16/16 [==============================] - 1s 59ms/step - loss: 0.5626 - accuracy: 0.8839 - val_loss: 0.9453 - val_accuracy: 0.8010\n",
            "Epoch 8/10\n",
            "16/16 [==============================] - 1s 61ms/step - loss: 0.4747 - accuracy: 0.9015 - val_loss: 0.9220 - val_accuracy: 0.8030\n",
            "Epoch 9/10\n",
            "16/16 [==============================] - 1s 60ms/step - loss: 0.4031 - accuracy: 0.9158 - val_loss: 0.8989 - val_accuracy: 0.8180\n",
            "Epoch 10/10\n",
            "16/16 [==============================] - 1s 58ms/step - loss: 0.3429 - accuracy: 0.9258 - val_loss: 0.8984 - val_accuracy: 0.8080\n",
            "71/71 [==============================] - 0s 4ms/step - loss: 0.9504 - accuracy: 0.7841\n",
            "[0.9503917098045349, 0.784060537815094]\n"
          ]
        }
      ]
    },
    {
      "cell_type": "code",
      "source": [],
      "metadata": {
        "id": "fWOHuemeKkaH"
      },
      "execution_count": null,
      "outputs": []
    }
  ]
}
