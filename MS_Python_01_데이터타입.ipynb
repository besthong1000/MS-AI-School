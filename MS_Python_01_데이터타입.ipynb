{
  "nbformat": 4,
  "nbformat_minor": 0,
  "metadata": {
    "colab": {
      "provenance": [],
      "authorship_tag": "ABX9TyPU0OZWgkAB8j31xDOLAmjc",
      "include_colab_link": true
    },
    "kernelspec": {
      "name": "python3",
      "display_name": "Python 3"
    },
    "language_info": {
      "name": "python"
    }
  },
  "cells": [
    {
      "cell_type": "markdown",
      "metadata": {
        "id": "view-in-github",
        "colab_type": "text"
      },
      "source": [
        "<a href=\"https://colab.research.google.com/github/unihong/MS-AI-School/blob/main/MS_Python_01_%EB%8D%B0%EC%9D%B4%ED%84%B0%ED%83%80%EC%9E%85.ipynb\" target=\"_parent\"><img src=\"https://colab.research.google.com/assets/colab-badge.svg\" alt=\"Open In Colab\"/></a>"
      ]
    },
    {
      "cell_type": "code",
      "execution_count": 1,
      "metadata": {
        "colab": {
          "base_uri": "https://localhost:8080/"
        },
        "id": "_tULh16-gqPH",
        "outputId": "4840998a-318c-4f1e-a7bb-5222b484156a"
      },
      "outputs": [
        {
          "output_type": "stream",
          "name": "stdout",
          "text": [
            "Hello World\n"
          ]
        }
      ],
      "source": [
        "print('Hello World')"
      ]
    },
    {
      "cell_type": "code",
      "source": [
        "#변수 규칙\n",
        "a = 3\n",
        "b = 2\n",
        "#3a = 4 항상 변수는 문자로 시작해야 한다.\n",
        "student_count = 200 #가급적 풀 네임으로 짓는다. 옛날과 달리 가독성 중요!\n",
        "address = ''        #가급적 정확한 영어로 짓는다.\n",
        "print(a*b, student_count)"
      ],
      "metadata": {
        "colab": {
          "base_uri": "https://localhost:8080/"
        },
        "id": "SxOJ62ncg6aS",
        "outputId": "cf5c0244-470f-4967-8408-705dd41a0ea3"
      },
      "execution_count": 3,
      "outputs": [
        {
          "output_type": "stream",
          "name": "stdout",
          "text": [
            "6 200\n"
          ]
        }
      ]
    },
    {
      "cell_type": "code",
      "source": [
        "# 대소문자를 구별한다. \n",
        "friend = 5\n",
        "Friend = 11\n",
        "print(friend)"
      ],
      "metadata": {
        "colab": {
          "base_uri": "https://localhost:8080/"
        },
        "id": "HARomsnhhoKV",
        "outputId": "990e6fcb-df40-44d7-a64f-4ac4ee6df2e5"
      },
      "execution_count": 4,
      "outputs": [
        {
          "output_type": "stream",
          "name": "stdout",
          "text": [
            "5\n"
          ]
        }
      ]
    },
    {
      "cell_type": "code",
      "source": [
        "#예약어는 사용할 수 없다. (오류)\n",
        "for = 1"
      ],
      "metadata": {
        "colab": {
          "base_uri": "https://localhost:8080/",
          "height": 139
        },
        "id": "xTfY8H1bh24y",
        "outputId": "22b69485-d788-488f-d9db-d6accfebf56a"
      },
      "execution_count": 5,
      "outputs": [
        {
          "output_type": "error",
          "ename": "SyntaxError",
          "evalue": "ignored",
          "traceback": [
            "\u001b[0;36m  File \u001b[0;32m\"<ipython-input-5-38fc56ebbdb6>\"\u001b[0;36m, line \u001b[0;32m2\u001b[0m\n\u001b[0;31m    for = 1\u001b[0m\n\u001b[0m        ^\u001b[0m\n\u001b[0;31mSyntaxError\u001b[0m\u001b[0;31m:\u001b[0m invalid syntax\n"
          ]
        }
      ]
    },
    {
      "cell_type": "code",
      "source": [
        "# 숫자형\n",
        "year = 2023\n",
        "month = 4\n",
        "print(year, month)"
      ],
      "metadata": {
        "colab": {
          "base_uri": "https://localhost:8080/"
        },
        "id": "6va78Tigh__w",
        "outputId": "6a7d71c8-473b-4476-b9e7-d063e31f7d9d"
      },
      "execution_count": 6,
      "outputs": [
        {
          "output_type": "stream",
          "name": "stdout",
          "text": [
            "2023 4\n"
          ]
        }
      ]
    },
    {
      "cell_type": "code",
      "source": [
        "#int = 정수형, str = 문자형\n",
        "year = 2034\n",
        "print(type(year)) #type() 데이터의 타입을 확인하는 함수 \n",
        "year = '이천이십삼년'\n",
        "print(type(year))"
      ],
      "metadata": {
        "colab": {
          "base_uri": "https://localhost:8080/"
        },
        "id": "nFXS_nqwiM0g",
        "outputId": "c34009d7-4518-40b7-d939-0a7a1078c2b7"
      },
      "execution_count": 8,
      "outputs": [
        {
          "output_type": "stream",
          "name": "stdout",
          "text": [
            "<class 'int'>\n",
            "<class 'str'>\n"
          ]
        }
      ]
    },
    {
      "cell_type": "code",
      "source": [
        "# 8진수\n",
        "print(0o10) # 정수 앞에 0o를 붙이면 8진수\n",
        "print(0b10) # 정수 앞에 0b를 붙이면 2진수\n",
        "print(0x10) # 정수 앞에 0x를 붙이면 16진수"
      ],
      "metadata": {
        "colab": {
          "base_uri": "https://localhost:8080/"
        },
        "id": "xn00VEMEi09Q",
        "outputId": "04ae7f64-7f00-4253-b541-e16911f9e67e"
      },
      "execution_count": 9,
      "outputs": [
        {
          "output_type": "stream",
          "name": "stdout",
          "text": [
            "8\n",
            "2\n",
            "16\n"
          ]
        }
      ]
    },
    {
      "cell_type": "code",
      "source": [
        "# 다음은 10진수를 받아서 각 진수로 변환하는 방법 (결과가 문자형)\n",
        "\n",
        "print(oct(38))  #10진수 38을 8진수로 변환\n",
        "print(hex(38))  #10진수 38을 16진수로 변환\n",
        "print(bin(38))  #10진수 38을 2진수로 변환환"
      ],
      "metadata": {
        "colab": {
          "base_uri": "https://localhost:8080/"
        },
        "id": "mhpy0PVDjrQ4",
        "outputId": "bbfb6602-db1f-46b7-9115-05b6bdb71e39"
      },
      "execution_count": 10,
      "outputs": [
        {
          "output_type": "stream",
          "name": "stdout",
          "text": [
            "0o46\n",
            "0x26\n",
            "0b100110\n"
          ]
        }
      ]
    },
    {
      "cell_type": "code",
      "source": [
        "# 파이썬의 정수 타입\n",
        "print(type(1))  #int\n",
        "print(type(2**31))  #2의 31승 파이썬 3.0에서 int 형으로 정수형 통합합"
      ],
      "metadata": {
        "colab": {
          "base_uri": "https://localhost:8080/"
        },
        "id": "MXfF7_AhkN8a",
        "outputId": "f6c44ada-b889-4bb0-8b96-acf7a1854860"
      },
      "execution_count": 11,
      "outputs": [
        {
          "output_type": "stream",
          "name": "stdout",
          "text": [
            "<class 'int'>\n",
            "<class 'int'>\n"
          ]
        }
      ]
    },
    {
      "cell_type": "code",
      "source": [
        "#실수의 표현\n",
        "print(type(3.14))\n",
        "print(type(314e-2))\n",
        "print(type(3-4j))   #복소수\n",
        "x = 3-4j\n",
        "print(x.imag)          #imag는 허수부\n",
        "print(x.real)          #real는 실수부\n",
        "print(x.conjugate())   #conjuage는 켤레 복소수 확인"
      ],
      "metadata": {
        "colab": {
          "base_uri": "https://localhost:8080/"
        },
        "id": "wxnboMtfkjKN",
        "outputId": "c33d74e8-ecfa-4194-b60b-1eb52b8fab8d"
      },
      "execution_count": 13,
      "outputs": [
        {
          "output_type": "stream",
          "name": "stdout",
          "text": [
            "<class 'float'>\n",
            "<class 'float'>\n",
            "<class 'complex'>\n",
            "-4.0\n",
            "3.0\n",
            "(3+4j)\n"
          ]
        }
      ]
    },
    {
      "cell_type": "code",
      "source": [
        "#원의 넓이\n",
        "r = 2\n",
        "circle_area = (r**2) * 3.14\n",
        "print(circle_area)\n",
        "\n",
        "#삼각형의 넓이\n",
        "x =3\n",
        "y = 4\n",
        "triangle_area = x * y / 2\n",
        "print(triangle_area)"
      ],
      "metadata": {
        "colab": {
          "base_uri": "https://localhost:8080/"
        },
        "id": "59-yOamAncKI",
        "outputId": "2291ddf8-9654-4c75-9986-d8607122a416"
      },
      "execution_count": 15,
      "outputs": [
        {
          "output_type": "stream",
          "name": "stdout",
          "text": [
            "12.56\n",
            "6.0\n"
          ]
        }
      ]
    },
    {
      "cell_type": "code",
      "source": [
        "#문자형 실습\n",
        "print('Hello world')   #'문자' = 문자\n",
        "print(\"Hello world\")   #\"문자\"  = 문자\n",
        "print(\"Welcome to 'Python world'\")  # (\"\")큰따옴표 안에 ('')작은따옴표 = ('')작은따옴표"
      ],
      "metadata": {
        "colab": {
          "base_uri": "https://localhost:8080/"
        },
        "id": "advMbZZbn8XQ",
        "outputId": "952d82c8-a30d-46db-f3b6-6c391ba56c6c"
      },
      "execution_count": 18,
      "outputs": [
        {
          "output_type": "stream",
          "name": "stdout",
          "text": [
            "Hello world\n",
            "Hello world\n",
            "Welcome to 'Python world'\n"
          ]
        }
      ]
    },
    {
      "cell_type": "code",
      "source": [
        "print('''\n",
        "항상 진실되게 살아라. \n",
        "모든 것은 밝혀진다.\n",
        "사필귀정\n",
        "       -우리 아빠\n",
        "\n",
        "''')"
      ],
      "metadata": {
        "colab": {
          "base_uri": "https://localhost:8080/"
        },
        "id": "-_Lbma0porp6",
        "outputId": "c9e473f5-48b7-42ec-be0b-d89e96cc7cb5"
      },
      "execution_count": 21,
      "outputs": [
        {
          "output_type": "stream",
          "name": "stdout",
          "text": [
            "\n",
            "항상 진실되게 살아라. \n",
            "모든 것은 밝혀진다.\n",
            "사필귀정\n",
            "       -우리 아빠\n",
            "\n",
            "\n"
          ]
        }
      ]
    },
    {
      "cell_type": "code",
      "source": [
        "print('\\t탭 \\n다음줄')"
      ],
      "metadata": {
        "colab": {
          "base_uri": "https://localhost:8080/"
        },
        "id": "uZWP5gY1pB14",
        "outputId": "2858f693-d029-49e5-e7a4-b2658b0d5773"
      },
      "execution_count": 22,
      "outputs": [
        {
          "output_type": "stream",
          "name": "stdout",
          "text": [
            "\t탭 \n",
            "다음줄\n"
          ]
        }
      ]
    },
    {
      "cell_type": "code",
      "source": [
        "print('py' 'thon')   #'문자' '문자' 가운데 띄어쓰기 없음.\n",
        "print('py' + 'thon') #'문자'+'문자' 가운데 띄어쓰기 없음."
      ],
      "metadata": {
        "colab": {
          "base_uri": "https://localhost:8080/"
        },
        "id": "3efIYab5pL6G",
        "outputId": "2e4874ff-9021-4c2a-f8ca-c38400ac07a4"
      },
      "execution_count": 26,
      "outputs": [
        {
          "output_type": "stream",
          "name": "stdout",
          "text": [
            "python\n",
            "python\n"
          ]
        }
      ]
    },
    {
      "cell_type": "code",
      "source": [
        "print('py' *3)"
      ],
      "metadata": {
        "colab": {
          "base_uri": "https://localhost:8080/"
        },
        "id": "FtG-Cm2qpddI",
        "outputId": "3ed76233-6b18-4aec-ee0f-bcef92157d9e"
      },
      "execution_count": 27,
      "outputs": [
        {
          "output_type": "stream",
          "name": "stdout",
          "text": [
            "pypypy\n"
          ]
        }
      ]
    },
    {
      "cell_type": "code",
      "source": [
        "a = 'Python'"
      ],
      "metadata": {
        "id": "WHHa5ypapmin"
      },
      "execution_count": 28,
      "outputs": []
    },
    {
      "cell_type": "code",
      "source": [
        "print(a[0])  #01234...0부터 센다.\n",
        "print(a[0+1])  #(+)사용하면 더해진 값이 나옴.\n",
        "print(a[2])"
      ],
      "metadata": {
        "colab": {
          "base_uri": "https://localhost:8080/"
        },
        "id": "c8dPExk4pvnw",
        "outputId": "a0c5f5a0-93f2-4e68-9a83-fd1d76cf9464"
      },
      "execution_count": 31,
      "outputs": [
        {
          "output_type": "stream",
          "name": "stdout",
          "text": [
            "P\n",
            "y\n",
            "t\n"
          ]
        }
      ]
    },
    {
      "cell_type": "code",
      "source": [
        "a[0] = 'A' # index read-only 속성이라 수정은 불가능합니다."
      ],
      "metadata": {
        "colab": {
          "base_uri": "https://localhost:8080/",
          "height": 177
        },
        "id": "yL2y-HUnqIjC",
        "outputId": "9989b100-73ad-4362-ae78-e88764699231"
      },
      "execution_count": 33,
      "outputs": [
        {
          "output_type": "error",
          "ename": "TypeError",
          "evalue": "ignored",
          "traceback": [
            "\u001b[0;31m---------------------------------------------------------------------------\u001b[0m",
            "\u001b[0;31mTypeError\u001b[0m                                 Traceback (most recent call last)",
            "\u001b[0;32m<ipython-input-33-6567ca17953a>\u001b[0m in \u001b[0;36m<cell line: 1>\u001b[0;34m()\u001b[0m\n\u001b[0;32m----> 1\u001b[0;31m \u001b[0ma\u001b[0m\u001b[0;34m[\u001b[0m\u001b[0;36m0\u001b[0m\u001b[0;34m]\u001b[0m \u001b[0;34m=\u001b[0m \u001b[0;34m'A'\u001b[0m \u001b[0;31m# index read-only 속성이라 수정은 불가능합니다.\u001b[0m\u001b[0;34m\u001b[0m\u001b[0;34m\u001b[0m\u001b[0m\n\u001b[0m",
            "\u001b[0;31mTypeError\u001b[0m: 'str' object does not support item assignment"
          ]
        }
      ]
    },
    {
      "cell_type": "code",
      "source": [
        "# a = python\n",
        "# index를 이용해서 범위를 설정할 수 있다. \n",
        "print(a[0:1])   #0부터 1의 전 문자 (3번째와 헷갈림 주의!!!!!)\n",
        "print(a[1:4])   \n",
        "print(a[:2])    #처음부터 2개 (1번째와 헷갈림 주의!!)\n",
        "print(a[-2:])   #뒤에서 2개\n",
        "print(a[:])     #전체\n",
        "print(a[::2])   #전체에서 앞에서 부터 2개씩 뛰어세기"
      ],
      "metadata": {
        "colab": {
          "base_uri": "https://localhost:8080/"
        },
        "id": "UrOO21MXqUdQ",
        "outputId": "b526af0f-afc6-4649-a8a7-e1037a0dedb4"
      },
      "execution_count": 43,
      "outputs": [
        {
          "output_type": "stream",
          "name": "stdout",
          "text": [
            "P\n",
            "yth\n",
            "Py\n",
            "on\n",
            "Python\n",
            "Pto\n"
          ]
        }
      ]
    },
    {
      "cell_type": "code",
      "source": [
        "#데이터 타입의 변환\n",
        "print(str(3.14))   #문자형으로 변환\n",
        "print(int('49'))   #정수형으로 변환\n",
        "print(float(23))   #실수형으로 변환환\n"
      ],
      "metadata": {
        "colab": {
          "base_uri": "https://localhost:8080/"
        },
        "id": "utQ3S4Kor6-p",
        "outputId": "a40bb8bd-76ee-49ca-f059-93a8c6d20aa4"
      },
      "execution_count": 45,
      "outputs": [
        {
          "output_type": "stream",
          "name": "stdout",
          "text": [
            "3.14\n",
            "49\n",
            "23.0\n"
          ]
        }
      ]
    }
  ]
}