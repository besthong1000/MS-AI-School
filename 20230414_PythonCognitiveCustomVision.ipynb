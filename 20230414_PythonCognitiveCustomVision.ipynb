{
  "nbformat": 4,
  "nbformat_minor": 0,
  "metadata": {
    "colab": {
      "provenance": [],
      "authorship_tag": "ABX9TyPLuWrXBcZ/QtpB/Grt7qbs",
      "include_colab_link": true
    },
    "kernelspec": {
      "name": "python3",
      "display_name": "Python 3"
    },
    "language_info": {
      "name": "python"
    }
  },
  "cells": [
    {
      "cell_type": "markdown",
      "metadata": {
        "id": "view-in-github",
        "colab_type": "text"
      },
      "source": [
        "<a href=\"https://colab.research.google.com/github/unihong/MS-AI-School/blob/main/20230414_PythonCognitiveCustomVision.ipynb\" target=\"_parent\"><img src=\"https://colab.research.google.com/assets/colab-badge.svg\" alt=\"Open In Colab\"/></a>"
      ]
    },
    {
      "cell_type": "code",
      "execution_count": null,
      "metadata": {
        "colab": {
          "base_uri": "https://localhost:8080/"
        },
        "id": "bswvJ6NyYtGc",
        "outputId": "74b9cf8b-7c2e-4a98-e19f-37b69c13728f"
      },
      "outputs": [
        {
          "output_type": "stream",
          "name": "stdout",
          "text": [
            "Looking in indexes: https://pypi.org/simple, https://us-python.pkg.dev/colab-wheels/public/simple/\n",
            "Requirement already satisfied: azure-cognitiveservices-vision-customvision in /usr/local/lib/python3.9/dist-packages (3.1.0)\n",
            "Requirement already satisfied: msrest>=0.5.0 in /usr/local/lib/python3.9/dist-packages (from azure-cognitiveservices-vision-customvision) (0.7.1)\n",
            "Requirement already satisfied: azure-common~=1.1 in /usr/local/lib/python3.9/dist-packages (from azure-cognitiveservices-vision-customvision) (1.1.28)\n",
            "Requirement already satisfied: requests-oauthlib>=0.5.0 in /usr/local/lib/python3.9/dist-packages (from msrest>=0.5.0->azure-cognitiveservices-vision-customvision) (1.3.1)\n",
            "Requirement already satisfied: isodate>=0.6.0 in /usr/local/lib/python3.9/dist-packages (from msrest>=0.5.0->azure-cognitiveservices-vision-customvision) (0.6.1)\n",
            "Requirement already satisfied: requests~=2.16 in /usr/local/lib/python3.9/dist-packages (from msrest>=0.5.0->azure-cognitiveservices-vision-customvision) (2.27.1)\n",
            "Requirement already satisfied: certifi>=2017.4.17 in /usr/local/lib/python3.9/dist-packages (from msrest>=0.5.0->azure-cognitiveservices-vision-customvision) (2022.12.7)\n",
            "Requirement already satisfied: azure-core>=1.24.0 in /usr/local/lib/python3.9/dist-packages (from msrest>=0.5.0->azure-cognitiveservices-vision-customvision) (1.26.4)\n",
            "Requirement already satisfied: typing-extensions>=4.3.0 in /usr/local/lib/python3.9/dist-packages (from azure-core>=1.24.0->msrest>=0.5.0->azure-cognitiveservices-vision-customvision) (4.5.0)\n",
            "Requirement already satisfied: six>=1.11.0 in /usr/local/lib/python3.9/dist-packages (from azure-core>=1.24.0->msrest>=0.5.0->azure-cognitiveservices-vision-customvision) (1.16.0)\n",
            "Requirement already satisfied: urllib3<1.27,>=1.21.1 in /usr/local/lib/python3.9/dist-packages (from requests~=2.16->msrest>=0.5.0->azure-cognitiveservices-vision-customvision) (1.26.15)\n",
            "Requirement already satisfied: idna<4,>=2.5 in /usr/local/lib/python3.9/dist-packages (from requests~=2.16->msrest>=0.5.0->azure-cognitiveservices-vision-customvision) (3.4)\n",
            "Requirement already satisfied: charset-normalizer~=2.0.0 in /usr/local/lib/python3.9/dist-packages (from requests~=2.16->msrest>=0.5.0->azure-cognitiveservices-vision-customvision) (2.0.12)\n",
            "Requirement already satisfied: oauthlib>=3.0.0 in /usr/local/lib/python3.9/dist-packages (from requests-oauthlib>=0.5.0->msrest>=0.5.0->azure-cognitiveservices-vision-customvision) (3.2.2)\n"
          ]
        }
      ],
      "source": [
        "!pip install azure-cognitiveservices-vision-customvision"
      ]
    },
    {
      "cell_type": "code",
      "source": [
        "from azure.cognitiveservices.vision.customvision.training import CustomVisionTrainingClient\n",
        "from azure.cognitiveservices.vision.customvision.training.models import ImageFileCreateEntry\n",
        "from msrest.authentication import ApiKeyCredentials"
      ],
      "metadata": {
        "id": "vLNNIFJebO3P"
      },
      "execution_count": null,
      "outputs": []
    },
    {
      "cell_type": "code",
      "source": [
        "endpoint = 'https://labuser93custom.cognitiveservices.azure.com/'\n",
        "training_key = '04f781ad694b4bc5ad9d761411ad59ef'"
      ],
      "metadata": {
        "id": "iZ72snBlbR4_"
      },
      "execution_count": null,
      "outputs": []
    },
    {
      "cell_type": "code",
      "source": [
        "publish_iteration_name = 'GreatWallmodel_93'\n",
        "credentials = ApiKeyCredentials(in_headers={'Training-key': training_key})"
      ],
      "metadata": {
        "id": "XwC5ekd5cf-X"
      },
      "execution_count": null,
      "outputs": []
    },
    {
      "cell_type": "code",
      "source": [
        "trainer = CustomVisionTrainingClient(endpoint, credentials)"
      ],
      "metadata": {
        "id": "pSgkVsm3e4qX"
      },
      "execution_count": null,
      "outputs": []
    },
    {
      "cell_type": "code",
      "source": [
        "#Create a new project\n",
        "print('Creating project....')\n",
        "project_name = 'GreatWall_93'\n",
        "project = trainer.create_project(project_name)"
      ],
      "metadata": {
        "colab": {
          "base_uri": "https://localhost:8080/"
        },
        "id": "4eFx4p8kfcB3",
        "outputId": "3161ee89-e92f-49c4-fdd4-952b2be6082a"
      },
      "execution_count": null,
      "outputs": [
        {
          "output_type": "stream",
          "name": "stdout",
          "text": [
            "Creating project....\n"
          ]
        }
      ]
    },
    {
      "cell_type": "code",
      "source": [
        "jajangmyeon_tag = trainer.create_tag(project.id, 'jajangmyeon')\n",
        "jjamppong_tag = trainer.create_tag(project.id, 'jjamppong')\n",
        "tangsuyug_tag = trainer.create_tag(project.id, 'tangsuyug')"
      ],
      "metadata": {
        "id": "UJngFAl2g1AG"
      },
      "execution_count": null,
      "outputs": []
    },
    {
      "cell_type": "code",
      "source": [
        "#학습의 시작\n",
        "import time\n",
        "print('Training....')\n",
        "iteration = trainer.train_project(project.id)\n",
        "while (iteration.status != 'Completed'):\n",
        "  iteration = trainer.get_iteration(project.id, iteration.id)\n",
        "  print('Training status: '+ iteration.status)\n",
        "  print('Waiting 10 seconds...')\n",
        "  time.sleep(10)"
      ],
      "metadata": {
        "colab": {
          "base_uri": "https://localhost:8080/"
        },
        "id": "oSXsHH17iibv",
        "outputId": "71d0b898-4775-4bd5-c0e3-746dc72545b9"
      },
      "execution_count": null,
      "outputs": [
        {
          "output_type": "stream",
          "name": "stdout",
          "text": [
            "Training....\n",
            "Training status: Training\n",
            "Waiting 10 seconds...\n",
            "Training status: Training\n",
            "Waiting 10 seconds...\n",
            "Training status: Training\n",
            "Waiting 10 seconds...\n",
            "Training status: Training\n",
            "Waiting 10 seconds...\n",
            "Training status: Training\n",
            "Waiting 10 seconds...\n",
            "Training status: Training\n",
            "Waiting 10 seconds...\n",
            "Training status: Training\n",
            "Waiting 10 seconds...\n",
            "Training status: Training\n",
            "Waiting 10 seconds...\n",
            "Training status: Training\n",
            "Waiting 10 seconds...\n",
            "Training status: Training\n",
            "Waiting 10 seconds...\n",
            "Training status: Training\n",
            "Waiting 10 seconds...\n",
            "Training status: Training\n",
            "Waiting 10 seconds...\n",
            "Training status: Training\n",
            "Waiting 10 seconds...\n",
            "Training status: Training\n",
            "Waiting 10 seconds...\n",
            "Training status: Training\n",
            "Waiting 10 seconds...\n",
            "Training status: Training\n",
            "Waiting 10 seconds...\n",
            "Training status: Training\n",
            "Waiting 10 seconds...\n",
            "Training status: Training\n",
            "Waiting 10 seconds...\n",
            "Training status: Training\n",
            "Waiting 10 seconds...\n",
            "Training status: Training\n",
            "Waiting 10 seconds...\n",
            "Training status: Training\n",
            "Waiting 10 seconds...\n",
            "Training status: Training\n",
            "Waiting 10 seconds...\n",
            "Training status: Training\n",
            "Waiting 10 seconds...\n",
            "Training status: Training\n",
            "Waiting 10 seconds...\n",
            "Training status: Training\n",
            "Waiting 10 seconds...\n",
            "Training status: Training\n",
            "Waiting 10 seconds...\n",
            "Training status: Training\n",
            "Waiting 10 seconds...\n",
            "Training status: Training\n",
            "Waiting 10 seconds...\n",
            "Training status: Training\n",
            "Waiting 10 seconds...\n",
            "Training status: Training\n",
            "Waiting 10 seconds...\n",
            "Training status: Training\n",
            "Waiting 10 seconds...\n",
            "Training status: Training\n",
            "Waiting 10 seconds...\n",
            "Training status: Training\n",
            "Waiting 10 seconds...\n",
            "Training status: Training\n",
            "Waiting 10 seconds...\n",
            "Training status: Training\n",
            "Waiting 10 seconds...\n",
            "Training status: Training\n",
            "Waiting 10 seconds...\n",
            "Training status: Training\n",
            "Waiting 10 seconds...\n",
            "Training status: Training\n",
            "Waiting 10 seconds...\n",
            "Training status: Training\n",
            "Waiting 10 seconds...\n",
            "Training status: Training\n",
            "Waiting 10 seconds...\n",
            "Training status: Training\n",
            "Waiting 10 seconds...\n",
            "Training status: Training\n",
            "Waiting 10 seconds...\n",
            "Training status: Training\n",
            "Waiting 10 seconds...\n",
            "Training status: Training\n",
            "Waiting 10 seconds...\n",
            "Training status: Training\n",
            "Waiting 10 seconds...\n",
            "Training status: Training\n",
            "Waiting 10 seconds...\n",
            "Training status: Training\n",
            "Waiting 10 seconds...\n",
            "Training status: Training\n",
            "Waiting 10 seconds...\n",
            "Training status: Training\n",
            "Waiting 10 seconds...\n",
            "Training status: Training\n",
            "Waiting 10 seconds...\n",
            "Training status: Training\n",
            "Waiting 10 seconds...\n",
            "Training status: Training\n",
            "Waiting 10 seconds...\n",
            "Training status: Training\n",
            "Waiting 10 seconds...\n",
            "Training status: Training\n",
            "Waiting 10 seconds...\n",
            "Training status: Training\n",
            "Waiting 10 seconds...\n",
            "Training status: Training\n",
            "Waiting 10 seconds...\n",
            "Training status: Training\n",
            "Waiting 10 seconds...\n",
            "Training status: Training\n",
            "Waiting 10 seconds...\n",
            "Training status: Training\n",
            "Waiting 10 seconds...\n",
            "Training status: Training\n",
            "Waiting 10 seconds...\n",
            "Training status: Training\n",
            "Waiting 10 seconds...\n",
            "Training status: Completed\n",
            "Waiting 10 seconds...\n"
          ]
        }
      ]
    },
    {
      "cell_type": "code",
      "source": [
        "# 예측, 추론하는 부분\n",
        "from azure.cognitiveservices.vision.customvision.prediction import CustomVisionPredictionClient"
      ],
      "metadata": {
        "id": "u53zwV0hpJ8W"
      },
      "execution_count": null,
      "outputs": []
    },
    {
      "cell_type": "code",
      "source": [
        "prediction_key = '3a5c86e5531b47b2bd83c86d085ac642'\n",
        "prediction_endpoint = 'https://labuser93custom-prediction.cognitiveservices.azure.com/'\n",
        "prediction_credential = ApiKeyCredentials(\n",
        "    in_headers={'Prediction-key': prediction_key})"
      ],
      "metadata": {
        "id": "QiKf1sfZ1STj"
      },
      "execution_count": null,
      "outputs": []
    },
    {
      "cell_type": "code",
      "source": [
        "# 예측 리소스의 생성\n",
        "predictor = CustomVisionPredictionClient(prediction_endpoint,\n",
        "                                         prediction_credential)"
      ],
      "metadata": {
        "id": "cPHSnkiI2-ZC"
      },
      "execution_count": null,
      "outputs": []
    },
    {
      "cell_type": "code",
      "source": [
        "target_image_url = 'https://mblogthumb-phinf.pstatic.net/MjAxNzAxMjNfNDkg/MDAxNDg1MTYwMTQ1MDc5.H7I84KnCb0_U0Fb312NMMk10dbmNhdMb45jDiNYs13Eg.e3185KBkHafPDJpOjsZ7vvvH741l0TzEt2vVNvePS7Mg.JPEG.china_lab/shutterstock_524181190.jpg?type=w800'\n",
        "result = predictor.classify_image_url(project.id, 'Iteration1',\n",
        "                             target_image_url)"
      ],
      "metadata": {
        "id": "B3kdUdGZ3b8Z"
      },
      "execution_count": null,
      "outputs": []
    },
    {
      "cell_type": "code",
      "source": [
        "for prediction in result.predictions:\n",
        "  print('\\t' + prediction.tag_name + \n",
        "        ': {0:.2f}%'.format(prediction.probability * 100))"
      ],
      "metadata": {
        "colab": {
          "base_uri": "https://localhost:8080/"
        },
        "id": "5wkW_JJ87Kzh",
        "outputId": "c8a12b09-1539-4a61-a990-07f6f30c6894"
      },
      "execution_count": null,
      "outputs": [
        {
          "output_type": "stream",
          "name": "stdout",
          "text": [
            "\tjajangmyeon: 99.94%\n",
            "\ttangsuyug: 0.16%\n",
            "\tjjamppong: 0.09%\n"
          ]
        }
      ]
    }
  ]
}