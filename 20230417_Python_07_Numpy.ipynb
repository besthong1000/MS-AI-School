{
  "nbformat": 4,
  "nbformat_minor": 0,
  "metadata": {
    "colab": {
      "provenance": [],
      "authorship_tag": "ABX9TyMxM34HBkQA4aqaDwSRGmV5",
      "include_colab_link": true
    },
    "kernelspec": {
      "name": "python3",
      "display_name": "Python 3"
    },
    "language_info": {
      "name": "python"
    }
  },
  "cells": [
    {
      "cell_type": "markdown",
      "metadata": {
        "id": "view-in-github",
        "colab_type": "text"
      },
      "source": [
        "<a href=\"https://colab.research.google.com/github/unihong/MS-AI-School/blob/main/20230417_Python_07_Numpy.ipynb\" target=\"_parent\"><img src=\"https://colab.research.google.com/assets/colab-badge.svg\" alt=\"Open In Colab\"/></a>"
      ]
    },
    {
      "cell_type": "code",
      "execution_count": null,
      "metadata": {
        "id": "IYVYy6ZAhNam"
      },
      "outputs": [],
      "source": [
        "# Numpy\n",
        "#C언어로 개발된 파이썬에서 과학적 계산을 위한 핵심 라이브러리. 다차원 배열 객체와 배열과 함께 작동하는 도구들을 제공한다. \n",
        "#하지만 고수준의 데이터 분석기능을 제공하지는 않기 때문에 Numpy 배열과 학께 Pandas와 같은 도구를 함께 사용한다. "
      ]
    },
    {
      "cell_type": "code",
      "source": [
        "import numpy as np"
      ],
      "metadata": {
        "id": "ehEP3mrvivzE"
      },
      "execution_count": null,
      "outputs": []
    },
    {
      "cell_type": "code",
      "source": [
        "arr = np.array([1,2,3,4])\n",
        "print(arr)\n",
        "print(type(arr))"
      ],
      "metadata": {
        "colab": {
          "base_uri": "https://localhost:8080/"
        },
        "id": "z_RwmEftjILD",
        "outputId": "d9ada10e-0be8-4dca-821c-7caae051b663"
      },
      "execution_count": null,
      "outputs": [
        {
          "output_type": "stream",
          "name": "stdout",
          "text": [
            "[1 2 3 4]\n",
            "<class 'numpy.ndarray'>\n"
          ]
        }
      ]
    },
    {
      "cell_type": "code",
      "source": [
        "#zeros, ones, empty를 사용해서 배열을 생성한다. \n",
        "car = np.zeros((3,3))\n",
        "print(car)"
      ],
      "metadata": {
        "colab": {
          "base_uri": "https://localhost:8080/"
        },
        "id": "8lm6RZxJlTdl",
        "outputId": "de23b503-2559-43ea-89ae-8167be688485"
      },
      "execution_count": null,
      "outputs": [
        {
          "output_type": "stream",
          "name": "stdout",
          "text": [
            "[[0. 0. 0.]\n",
            " [0. 0. 0.]\n",
            " [0. 0. 0.]]\n"
          ]
        }
      ]
    },
    {
      "cell_type": "code",
      "source": [
        "np.ones((2,2))"
      ],
      "metadata": {
        "colab": {
          "base_uri": "https://localhost:8080/"
        },
        "id": "1CP1DTtYlriq",
        "outputId": "c7d7e26e-6a69-4ce8-d501-2b5eb386e4f4"
      },
      "execution_count": null,
      "outputs": [
        {
          "output_type": "execute_result",
          "data": {
            "text/plain": [
              "array([[1., 1.],\n",
              "       [1., 1.]])"
            ]
          },
          "metadata": {},
          "execution_count": 8
        }
      ]
    },
    {
      "cell_type": "code",
      "source": [
        "np.empty((4,4))"
      ],
      "metadata": {
        "colab": {
          "base_uri": "https://localhost:8080/"
        },
        "id": "iHNaSo_ymdpp",
        "outputId": "5ecb636b-e04b-4b99-a3dd-e3db6d1bf96d"
      },
      "execution_count": null,
      "outputs": [
        {
          "output_type": "execute_result",
          "data": {
            "text/plain": [
              "array([[2.46514410e-316, 0.00000000e+000, 6.01346954e-154,\n",
              "        5.98149672e-154],\n",
              "       [4.71592575e+257, 7.20358919e+159, 1.33856858e-152,\n",
              "        3.65588281e+233],\n",
              "       [1.35712977e+166, 2.31633955e-152, 3.94355938e+180,\n",
              "        1.89130905e+219],\n",
              "       [3.68321739e+180, 5.98178806e-154, 1.06758000e+224,\n",
              "        3.11079466e+161]])"
            ]
          },
          "metadata": {},
          "execution_count": 9
        }
      ]
    },
    {
      "cell_type": "code",
      "source": [
        "#특정 범위의 변수를 생성할 때 arrange()를 사용한다. \n",
        "\n",
        "print(np.arange(10)) #10은 개수가 아니라 끝나는 지점\n",
        "print(np.arange(1,10))\n",
        "print(np.arange(1,10,2))"
      ],
      "metadata": {
        "colab": {
          "base_uri": "https://localhost:8080/"
        },
        "id": "6UASW9z0nlZo",
        "outputId": "35f2e9cb-cecc-43d1-cd4f-8d78c812a309"
      },
      "execution_count": null,
      "outputs": [
        {
          "output_type": "stream",
          "name": "stdout",
          "text": [
            "[0 1 2 3 4 5 6 7 8 9]\n",
            "[1 2 3 4 5 6 7 8 9]\n",
            "[1 3 5 7 9]\n"
          ]
        }
      ]
    },
    {
      "cell_type": "code",
      "source": [
        "#ndarray (다차원배열) 배열의 모양, 차수, 데이터 타입 확인해보기\n",
        "arr = np.array([[1,2,3],[4,5,6]]) #[]가 몇개가 열렸는지 본다.1개 열리면 1차원, 2개 열리면 2차원원\n",
        "print(arr)  #모양 2,3"
      ],
      "metadata": {
        "colab": {
          "base_uri": "https://localhost:8080/"
        },
        "id": "yKCUeqaAoRwd",
        "outputId": "80b85073-77d8-4a42-85bf-81bd672cfdcf"
      },
      "execution_count": null,
      "outputs": [
        {
          "output_type": "stream",
          "name": "stdout",
          "text": [
            "[[1 2 3]\n",
            " [4 5 6]]\n"
          ]
        }
      ]
    },
    {
      "cell_type": "code",
      "source": [
        "#차원의 확인인\n",
        "arr.ndim"
      ],
      "metadata": {
        "colab": {
          "base_uri": "https://localhost:8080/"
        },
        "id": "xpvmUu6tpJof",
        "outputId": "9d812eb5-b152-4d99-9dd6-6ba31eb37546"
      },
      "execution_count": null,
      "outputs": [
        {
          "output_type": "execute_result",
          "data": {
            "text/plain": [
              "2"
            ]
          },
          "metadata": {},
          "execution_count": 21
        }
      ]
    },
    {
      "cell_type": "code",
      "source": [
        "#데이터의 모양을 확인하는 방법\n",
        "arr.shape"
      ],
      "metadata": {
        "colab": {
          "base_uri": "https://localhost:8080/"
        },
        "id": "POYKTTIepdrV",
        "outputId": "35c20736-6d18-4593-b01d-663f1f6f9251"
      },
      "execution_count": null,
      "outputs": [
        {
          "output_type": "execute_result",
          "data": {
            "text/plain": [
              "(2, 3)"
            ]
          },
          "metadata": {},
          "execution_count": 22
        }
      ]
    },
    {
      "cell_type": "code",
      "source": [
        "#데이터 타입의 확인\n",
        "print(type(arr))\n",
        "print(arr.dtype) #int64 = 64bit integer :숫자형에서 제일 큰 타입"
      ],
      "metadata": {
        "colab": {
          "base_uri": "https://localhost:8080/"
        },
        "id": "c46w79WnpqIb",
        "outputId": "92d77403-a553-4ab3-82c8-4452773ac0e5"
      },
      "execution_count": null,
      "outputs": [
        {
          "output_type": "stream",
          "name": "stdout",
          "text": [
            "<class 'numpy.ndarray'>\n",
            "int64\n"
          ]
        }
      ]
    },
    {
      "cell_type": "code",
      "source": [
        "#ndarray 배열의 타입 변환\n",
        "arr_int = np.array([1,2,3,4]) #정수형\n",
        "print(arr_int.dtype)\n",
        "arr_float = arr_int.astype(np.float64) #실수형으로 변환\n",
        "print(arr_float.dtype)"
      ],
      "metadata": {
        "colab": {
          "base_uri": "https://localhost:8080/"
        },
        "id": "6QSTMUnjqCRw",
        "outputId": "2d746179-c204-4bbd-d031-52a4bbe7ae8d"
      },
      "execution_count": null,
      "outputs": [
        {
          "output_type": "stream",
          "name": "stdout",
          "text": [
            "int64\n",
            "float64\n"
          ]
        }
      ]
    },
    {
      "cell_type": "code",
      "source": [
        "arr_str = np.array(['1','2','3','4'])\n",
        "print(arr_str.dtype)   #U1은 유니코드를 의미함.\n",
        "arr_int = arr_str.astype(np.int64)\n",
        "print(arr_int.dtype)"
      ],
      "metadata": {
        "colab": {
          "base_uri": "https://localhost:8080/"
        },
        "id": "2RV-1gc6sevI",
        "outputId": "23e7f3e8-6308-497e-cc8a-6dda32ae3ce7"
      },
      "execution_count": null,
      "outputs": [
        {
          "output_type": "stream",
          "name": "stdout",
          "text": [
            "<U1\n",
            "int64\n"
          ]
        }
      ]
    },
    {
      "cell_type": "code",
      "source": [
        "#배열의 연산\n",
        "arr1 = np.array([[1,2],[3,4]])\n",
        "arr2 = np.array([[5,6],[7,8]])\n",
        "print(arr1 + arr2)\n",
        "print(arr1 - arr2)\n",
        "print(arr1 * arr2)"
      ],
      "metadata": {
        "colab": {
          "base_uri": "https://localhost:8080/"
        },
        "id": "shFaZH_QwqhJ",
        "outputId": "18ca14bb-7ab7-4d60-de6a-5ec7ae682ffc"
      },
      "execution_count": null,
      "outputs": [
        {
          "output_type": "stream",
          "name": "stdout",
          "text": [
            "[[ 6  8]\n",
            " [10 12]]\n",
            "[[-4 -4]\n",
            " [-4 -4]]\n",
            "[[ 5 12]\n",
            " [21 32]]\n"
          ]
        }
      ]
    },
    {
      "cell_type": "code",
      "source": [
        "print(np.add(arr1,arr2))\n",
        "print(np.multiply(arr1, arr2))"
      ],
      "metadata": {
        "colab": {
          "base_uri": "https://localhost:8080/"
        },
        "id": "uR8BqhZRwVv3",
        "outputId": "bc69c02a-ea88-4df9-b0fb-46d7bb2520f8"
      },
      "execution_count": null,
      "outputs": [
        {
          "output_type": "stream",
          "name": "stdout",
          "text": [
            "[[ 6  8]\n",
            " [10 12]]\n",
            "[[ 5 12]\n",
            " [21 32]]\n"
          ]
        }
      ]
    },
    {
      "cell_type": "code",
      "source": [
        "#ndarray 배열 슬라이싱 하기\n",
        "arr = np.array([[1,2,3],\n",
        "                [4,5,6],\n",
        "                [7,8,9]])"
      ],
      "metadata": {
        "id": "28_RKekCyJJq"
      },
      "execution_count": null,
      "outputs": []
    },
    {
      "cell_type": "code",
      "source": [
        "arr_1 = arr[:2,1:3] #0,1,2에서 2앞자리인 1까지지 자름.\n",
        "print(arr_1)"
      ],
      "metadata": {
        "colab": {
          "base_uri": "https://localhost:8080/"
        },
        "id": "TygujkFby0zZ",
        "outputId": "0fd06854-16f7-4ecf-95ce-e6c72391052b"
      },
      "execution_count": null,
      "outputs": [
        {
          "output_type": "stream",
          "name": "stdout",
          "text": [
            "[[2 3]\n",
            " [5 6]]\n"
          ]
        }
      ]
    },
    {
      "cell_type": "code",
      "source": [
        "arr= np.array([[1,2,3],[4,5,6],[7,8,9]])\n",
        "arr[0,2]"
      ],
      "metadata": {
        "colab": {
          "base_uri": "https://localhost:8080/"
        },
        "id": "HKjl1HNA0LCW",
        "outputId": "0916f3eb-272e-47a6-fcd4-1baa1ab278dc"
      },
      "execution_count": null,
      "outputs": [
        {
          "output_type": "execute_result",
          "data": {
            "text/plain": [
              "3"
            ]
          },
          "metadata": {},
          "execution_count": 42
        }
      ]
    },
    {
      "cell_type": "code",
      "source": [
        "arr = np.array([[1,2,3],[4,5,6]])\n",
        "idx = arr > 3\n",
        "print(idx)"
      ],
      "metadata": {
        "colab": {
          "base_uri": "https://localhost:8080/"
        },
        "id": "vH6633bL08Dz",
        "outputId": "662f72d4-a98a-4719-fca7-7b6527486dc0"
      },
      "execution_count": null,
      "outputs": [
        {
          "output_type": "stream",
          "name": "stdout",
          "text": [
            "[[False False False]\n",
            " [ True  True  True]]\n"
          ]
        }
      ]
    },
    {
      "cell_type": "code",
      "source": [
        "arr[idx]  #True만 "
      ],
      "metadata": {
        "colab": {
          "base_uri": "https://localhost:8080/"
        },
        "id": "uh_njyfb1nuR",
        "outputId": "8c57518e-1afd-454d-dfd8-4557727ced6a"
      },
      "execution_count": null,
      "outputs": [
        {
          "output_type": "execute_result",
          "data": {
            "text/plain": [
              "array([4, 5, 6])"
            ]
          },
          "metadata": {},
          "execution_count": 45
        }
      ]
    },
    {
      "cell_type": "code",
      "source": [
        "redwine = np.loadtxt(fname='winequality-red.csv', delimiter=';', skiprows=1)"
      ],
      "metadata": {
        "id": "391SFrrb1nyz"
      },
      "execution_count": null,
      "outputs": []
    },
    {
      "cell_type": "code",
      "source": [
        "print(redwine)"
      ],
      "metadata": {
        "colab": {
          "base_uri": "https://localhost:8080/"
        },
        "id": "u5PbDjTo9Wg5",
        "outputId": "d66f21bb-0d94-4c18-cd63-47d8470e35ec"
      },
      "execution_count": null,
      "outputs": [
        {
          "output_type": "stream",
          "name": "stdout",
          "text": [
            "[[ 7.4    0.7    0.    ...  0.56   9.4    5.   ]\n",
            " [ 7.8    0.88   0.    ...  0.68   9.8    5.   ]\n",
            " [ 7.8    0.76   0.04  ...  0.65   9.8    5.   ]\n",
            " ...\n",
            " [ 6.3    0.51   0.13  ...  0.75  11.     6.   ]\n",
            " [ 5.9    0.645  0.12  ...  0.71  10.2    5.   ]\n",
            " [ 6.     0.31   0.47  ...  0.66  11.     6.   ]]\n"
          ]
        }
      ]
    },
    {
      "cell_type": "code",
      "source": [
        "#기초 통계함수\n",
        "#sum  합계\n",
        "#mean 평균\n",
        "#std  표준편차 \n",
        "#var  분산 (std의 제곱)\n",
        "#min  최소값\n",
        "#max  최대값\n",
        "\n",
        "print(redwine.sum()) #전체 데이터의 합계.그런데 큰 의미가 없다.\n",
        "print(redwine.sum(axis=0))\n",
        "print(redwine.mean(axis=0)) #0번축, 1번축축"
      ],
      "metadata": {
        "colab": {
          "base_uri": "https://localhost:8080/"
        },
        "id": "NEx7pdVi9xY-",
        "outputId": "f75b266c-7ff8-4007-dd1d-d6dc4e95513d"
      },
      "execution_count": null,
      "outputs": [
        {
          "output_type": "stream",
          "name": "stdout",
          "text": [
            "152084.78194\n",
            "[13303.1       843.985     433.29     4059.55      139.859   25384.\n",
            " 74302.       1593.79794  5294.47     1052.38    16666.35     9012.     ]\n",
            "[ 8.31963727  0.52782051  0.27097561  2.5388055   0.08746654 15.87492183\n",
            " 46.46779237  0.99674668  3.3111132   0.65814884 10.42298311  5.63602251]\n"
          ]
        }
      ]
    },
    {
      "cell_type": "code",
      "source": [
        "print(redwine[:,0].mean())"
      ],
      "metadata": {
        "colab": {
          "base_uri": "https://localhost:8080/"
        },
        "id": "nUEA86XuAUt1",
        "outputId": "1025d249-9615-4176-f181-189448cff4ce"
      },
      "execution_count": null,
      "outputs": [
        {
          "output_type": "stream",
          "name": "stdout",
          "text": [
            "8.31963727329581\n"
          ]
        }
      ]
    },
    {
      "cell_type": "code",
      "source": [
        "print(redwine.max(axis=0)) #최고점수\n",
        "print(redwine.min(axis=0)) #최저점수"
      ],
      "metadata": {
        "colab": {
          "base_uri": "https://localhost:8080/"
        },
        "id": "VFCVn5-1BjcO",
        "outputId": "4da8c305-20ab-4d60-a093-d8fa12a85b40"
      },
      "execution_count": null,
      "outputs": [
        {
          "output_type": "stream",
          "name": "stdout",
          "text": [
            "[ 15.9       1.58      1.       15.5       0.611    72.      289.\n",
            "   1.00369   4.01      2.       14.9       8.     ]\n"
          ]
        }
      ]
    }
  ]
}