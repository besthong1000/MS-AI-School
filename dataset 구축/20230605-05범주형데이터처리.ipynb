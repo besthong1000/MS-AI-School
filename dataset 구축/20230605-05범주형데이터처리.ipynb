{
 "cells": [
  {
   "attachments": {},
   "cell_type": "markdown",
   "metadata": {},
   "source": [
    "# 순서가 없는 범주형 데이터 처리"
   ]
  },
  {
   "cell_type": "code",
   "execution_count": 37,
   "metadata": {},
   "outputs": [],
   "source": [
    "import numpy as np\n",
    "from sklearn.preprocessing import LabelBinarizer, MultiLabelBinarizer"
   ]
  },
  {
   "cell_type": "code",
   "execution_count": 38,
   "metadata": {},
   "outputs": [
    {
     "name": "stdout",
     "output_type": "stream",
     "text": [
      "[['가나다라']\n",
      " ['가나다라']\n",
      " ['아바하자']\n",
      " ['카나다사']]\n",
      "['가나다라' '아바하자' '카나다사']\n"
     ]
    }
   ],
   "source": [
    "feature = np.array((['가나다라'],\n",
    "                    ['가나다라'],\n",
    "                    ['아바하자'],\n",
    "                    ['카나다사']))\n",
    "\n",
    "print(feature)\n",
    "\n",
    "#원-핫 인코더 생성\n",
    "ont_hot = LabelBinarizer()\n",
    "ont_hot.fit_transform(feature)  #특성을 원-핫 인코딩 변환\n",
    "#특성 클래스 확인\n",
    "print(ont_hot.classes_)"
   ]
  },
  {
   "attachments": {},
   "cell_type": "markdown",
   "metadata": {},
   "source": [
    "원-핫 인코딩은 단어 집합의 크기를 벡터의 차원으로 하고, 표현하고 싶은 단어의 인덱스에 1의 값을 부여하고, 다른 인덱스에는 0을 부여하는 단어의 벡터 표현 방식입니다"
   ]
  },
  {
   "attachments": {},
   "cell_type": "markdown",
   "metadata": {},
   "source": [
    "# 다중 클래스 특성에 대한 처리"
   ]
  },
  {
   "cell_type": "code",
   "execution_count": 39,
   "metadata": {},
   "outputs": [
    {
     "name": "stdout",
     "output_type": "stream",
     "text": [
      "['가나다라마' '아마자나마' '아자바하나' '아카나다하' '자나다나마' '자다바타나']\n"
     ]
    }
   ],
   "source": [
    "multiclass_feature = [('가나다라마','아자바하나'),\n",
    "                      ('자나다나마','자다바타나'),\n",
    "                      ('가나다라마','아자바하나'),\n",
    "                      ('아마자나마','아카나다하'),\n",
    "                      ('가나다라마','아자바하나')\n",
    "                      ]\n",
    "\n",
    "one_hot_mult = MultiLabelBinarizer()\n",
    "one_hot_mult.fit_transform(multiclass_feature)\n",
    "print(one_hot_mult.classes_)"
   ]
  },
  {
   "attachments": {},
   "cell_type": "markdown",
   "metadata": {},
   "source": [
    "# 문자열 타깃 데이터 원-핫 인코딩"
   ]
  },
  {
   "cell_type": "code",
   "execution_count": 40,
   "metadata": {},
   "outputs": [
    {
     "name": "stdout",
     "output_type": "stream",
     "text": [
      "[array(['노래', '안녕', '저녁', '점심'], dtype=object), array([1, 2, 3, 4], dtype=object)]\n"
     ]
    },
    {
     "name": "stderr",
     "output_type": "stream",
     "text": [
      "c:\\Users\\besth\\AppData\\Local\\Programs\\Python\\Python310\\lib\\site-packages\\sklearn\\preprocessing\\_encoders.py:868: FutureWarning: `sparse` was renamed to `sparse_output` in version 1.2 and will be removed in 1.4. `sparse_output` is ignored unless you leave `sparse` to its default value.\n",
      "  warnings.warn(\n"
     ]
    }
   ],
   "source": [
    "from sklearn.preprocessing import OneHotEncoder\n",
    "\n",
    "str_feature = ([['안녕', 1],\n",
    "                ['저녁', 2],\n",
    "                ['안녕', 3],\n",
    "                ['점심', 3],\n",
    "                ['노래', 4]\n",
    "                ])\n",
    "\n",
    "one_hot_encoder = OneHotEncoder(sparse=False)\n",
    "\n",
    "# One hot encoder -> 입력 특성 배열을 모두 범주형\n",
    "one_hot_encoder.fit_transform(str_feature)\n",
    "print(one_hot_encoder.categories_)"
   ]
  },
  {
   "attachments": {},
   "cell_type": "markdown",
   "metadata": {},
   "source": [
    "# 순서가 있는 범주형 특성 인코딩\n",
    "- 순서가 있는 클래스는 순서 개념을 가진 수치값으로 변환\n",
    "- 딕셔너리 사용해서  -> 특성"
   ]
  },
  {
   "cell_type": "code",
   "execution_count": 41,
   "metadata": {},
   "outputs": [
    {
     "name": "stdout",
     "output_type": "stream",
     "text": [
      "Requirement already satisfied: pandas in c:\\users\\besth\\appdata\\local\\programs\\python\\python310\\lib\\site-packages (2.0.2)\n",
      "Requirement already satisfied: python-dateutil>=2.8.2 in c:\\users\\besth\\appdata\\local\\programs\\python\\python310\\lib\\site-packages (from pandas) (2.8.2)\n",
      "Requirement already satisfied: pytz>=2020.1 in c:\\users\\besth\\appdata\\local\\programs\\python\\python310\\lib\\site-packages (from pandas) (2023.3)\n",
      "Requirement already satisfied: tzdata>=2022.1 in c:\\users\\besth\\appdata\\local\\programs\\python\\python310\\lib\\site-packages (from pandas) (2023.3)\n",
      "Requirement already satisfied: numpy>=1.21.0 in c:\\users\\besth\\appdata\\local\\programs\\python\\python310\\lib\\site-packages (from pandas) (1.24.3)\n",
      "Requirement already satisfied: six>=1.5 in c:\\users\\besth\\appdata\\local\\programs\\python\\python310\\lib\\site-packages (from python-dateutil>=2.8.2->pandas) (1.16.0)\n",
      "Note: you may need to restart the kernel to use updated packages.\n"
     ]
    }
   ],
   "source": [
    "pip install pandas"
   ]
  },
  {
   "cell_type": "code",
   "execution_count": 42,
   "metadata": {},
   "outputs": [],
   "source": [
    "import pandas as pd"
   ]
  },
  {
   "cell_type": "code",
   "execution_count": 43,
   "metadata": {},
   "outputs": [
    {
     "name": "stdout",
     "output_type": "stream",
     "text": [
      "    Score\n",
      "0     Low\n",
      "1     Low\n",
      "2  Medium\n",
      "3  Medium\n",
      "4    High\n"
     ]
    }
   ],
   "source": [
    "#특성 데이터 생성\n",
    "dataframe = pd.DataFrame({\n",
    "    'Score' : [\"Low\", \"Low\", \"Medium\", \"Medium\" ,\"High\"]\n",
    "})\n",
    "\n",
    "print(dataframe)"
   ]
  },
  {
   "cell_type": "code",
   "execution_count": 44,
   "metadata": {},
   "outputs": [
    {
     "name": "stdout",
     "output_type": "stream",
     "text": [
      "{'Low': 1, 'Medium': 2, 'High': 3}\n"
     ]
    }
   ],
   "source": [
    "# 매핑 딕셔너리 생성\n",
    "scale_mapper = {\n",
    "    \"Low\" : 1,\n",
    "    \"Medium\" : 2,\n",
    "    \"High\" : 3\n",
    "}\n",
    "\n",
    "print(scale_mapper)\n"
   ]
  },
  {
   "cell_type": "code",
   "execution_count": 45,
   "metadata": {},
   "outputs": [
    {
     "name": "stdout",
     "output_type": "stream",
     "text": [
      "0    1\n",
      "1    1\n",
      "2    2\n",
      "3    2\n",
      "4    3\n",
      "Name: Score, dtype: int64\n"
     ]
    }
   ],
   "source": [
    "data = dataframe[\"Score\"].replace(scale_mapper)\n",
    "print(data)"
   ]
  },
  {
   "attachments": {},
   "cell_type": "markdown",
   "metadata": {},
   "source": [
    "# 1-2 순서가 있는 범주형 특성 인코딩 (2)"
   ]
  },
  {
   "cell_type": "code",
   "execution_count": 46,
   "metadata": {},
   "outputs": [
    {
     "name": "stdout",
     "output_type": "stream",
     "text": [
      "[array(['High', 'Low', 'Medium'], dtype='<U11'), array(['10', '3', '40'], dtype='<U11')]\n"
     ]
    }
   ],
   "source": [
    "from sklearn.preprocessing import OrdinalEncoder\n",
    "\n",
    "feature_array = np.array((['Low', 10],\n",
    "                          ['High', 40],\n",
    "                          ['Medium', 3]))\n",
    "\n",
    "ordinal_encoder = OrdinalEncoder()\n",
    "ordinal_encoder.fit_transform(feature_array)\n",
    "print(ordinal_encoder.categories_)"
   ]
  },
  {
   "attachments": {},
   "cell_type": "markdown",
   "metadata": {},
   "source": [
    "# 1-3 순서가 있는 범주형 특성 인코딩 (3)\n",
    "- 특성 딕셔너리 인코딩"
   ]
  },
  {
   "cell_type": "code",
   "execution_count": 47,
   "metadata": {},
   "outputs": [],
   "source": [
    "from sklearn.feature_extraction import DictVectorizer"
   ]
  },
  {
   "cell_type": "code",
   "execution_count": 48,
   "metadata": {},
   "outputs": [
    {
     "name": "stdout",
     "output_type": "stream",
     "text": [
      "[[4. 2. 0.]\n",
      " [3. 2. 0.]\n",
      " [0. 1. 2.]\n",
      " [0. 1. 2.]]\n",
      "['Blue' 'Red' 'Yellow']\n",
      "   Blue  Red  Yellow\n",
      "0   4.0  2.0     0.0\n",
      "1   3.0  2.0     0.0\n",
      "2   0.0  1.0     2.0\n",
      "3   0.0  1.0     2.0\n"
     ]
    }
   ],
   "source": [
    "#딕셔너리 생성\n",
    "data_dict = [{\"Red\" : 2, \"Blue\" : 4},\n",
    "             {\"Red\" : 2, \"Blue\" : 3},\n",
    "             {\"Red\" : 1, \"Yellow\" : 2},\n",
    "             {\"Red\" : 1, \"Yellow\" : 2}]\n",
    "\n",
    "dictvectorizer = DictVectorizer(sparse=False)\n",
    "\n",
    "feature_dict = dictvectorizer.fit_transform(data_dict)\n",
    "print(feature_dict)\n",
    "\n",
    "feature_dict_name = dictvectorizer.get_feature_names_out()\n",
    "print(feature_dict_name)\n",
    "\n",
    "dict_data = pd.DataFrame(feature_dict, columns=feature_dict_name)\n",
    "print(dict_data)"
   ]
  },
  {
   "attachments": {},
   "cell_type": "markdown",
   "metadata": {},
   "source": [
    "# 범주형 데이터 - 누락된 클래스 값 대처하기 01"
   ]
  },
  {
   "cell_type": "code",
   "execution_count": 49,
   "metadata": {},
   "outputs": [],
   "source": [
    "from sklearn.neighbors import KNeighborsClassifier"
   ]
  },
  {
   "cell_type": "code",
   "execution_count": 50,
   "metadata": {},
   "outputs": [
    {
     "name": "stdout",
     "output_type": "stream",
     "text": [
      "[[ 2.1   1.48]\n",
      " [ 1.18  1.33]\n",
      " [ 1.22  1.27]\n",
      " [-0.2  -1.15]]\n",
      "[0. 1. 0. 1.]\n"
     ]
    }
   ],
   "source": [
    "x = np.array([[0, 2.10, 1.48],\n",
    "              [1,1.18,1.33],\n",
    "              [0,1.22,1.27],\n",
    "              [1, -0.20, -1.15]])\n",
    "\n",
    "x_with_nan = np.array([[np.nan, 0.87, 1.33], [np.nan, -0.67, -0.22]])\n",
    "clf = KNeighborsClassifier(3, weights='distance')\n",
    "\n",
    "print(x[:,1:])\n",
    "print(x[:,0])"
   ]
  },
  {
   "cell_type": "code",
   "execution_count": 51,
   "metadata": {},
   "outputs": [
    {
     "name": "stdout",
     "output_type": "stream",
     "text": [
      "0    1\n",
      "1    1\n",
      "2    2\n",
      "3    2\n",
      "4    3\n",
      "Name: Score, dtype: int64\n"
     ]
    }
   ],
   "source": [
    "train_model = clf.fit(x[:,1:], x[:,0])\n",
    "imputer_values = train_model.predict(x_with_nan[:,1:])  #누락된 값의 클래스 예측\n",
    "\n",
    "x_with_imputer = np.hstack((imputer_values.reshape(-1,1), x_with_nan[:,1:]))\n",
    "print(data)"
   ]
  },
  {
   "attachments": {},
   "cell_type": "markdown",
   "metadata": {},
   "source": [
    "# 누락된 클래스 값 대처하기 -02\n",
    "- 누락된 값을 특성에서 가장 자주 등장하는 값으로 채우기"
   ]
  },
  {
   "cell_type": "code",
   "execution_count": 52,
   "metadata": {},
   "outputs": [],
   "source": [
    "from sklearn.impute import SimpleImputer"
   ]
  },
  {
   "cell_type": "code",
   "execution_count": 55,
   "metadata": {},
   "outputs": [
    {
     "name": "stdout",
     "output_type": "stream",
     "text": [
      "전\n",
      "[[  nan  0.87  1.33]\n",
      " [  nan -0.67 -0.22]\n",
      " [ 0.    2.1   1.48]\n",
      " [ 1.    1.18  1.33]\n",
      " [ 0.    1.22  1.27]\n",
      " [ 1.   -0.2  -1.15]]\n",
      "후\n",
      "[[ 0.    0.87  1.33]\n",
      " [ 0.   -0.67 -0.22]\n",
      " [ 0.    2.1   1.48]\n",
      " [ 1.    1.18  1.33]\n",
      " [ 0.    1.22  1.27]\n",
      " [ 1.   -0.2  -1.15]]\n"
     ]
    }
   ],
   "source": [
    "x_complete = np.vstack((x_with_nan, x))\n",
    "print(\"전\")\n",
    "print(x_complete)\n",
    "\n",
    "impute = SimpleImputer(strategy='most_frequent')\n",
    "data_impute = impute.fit_transform(x_complete)\n",
    "\n",
    "print(\"후\")\n",
    "print(data_impute)"
   ]
  },
  {
   "attachments": {},
   "cell_type": "markdown",
   "metadata": {},
   "source": [
    "fit 메서드는 학습이 완료된 모델을 반환하고, fit_transform 메서드는 학습이 완료된 변환기 객체와 변환된 데이터를 반환합니다."
   ]
  }
 ],
 "metadata": {
  "kernelspec": {
   "display_name": "Python 3",
   "language": "python",
   "name": "python3"
  },
  "language_info": {
   "codemirror_mode": {
    "name": "ipython",
    "version": 3
   },
   "file_extension": ".py",
   "mimetype": "text/x-python",
   "name": "python",
   "nbconvert_exporter": "python",
   "pygments_lexer": "ipython3",
   "version": "3.10.11"
  },
  "orig_nbformat": 4
 },
 "nbformat": 4,
 "nbformat_minor": 2
}
