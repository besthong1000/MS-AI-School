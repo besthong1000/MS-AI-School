{
 "cells": [
  {
   "attachments": {},
   "cell_type": "markdown",
   "metadata": {},
   "source": [
    "# 사이킷런 손글씨 데이터를 활용하여 주성분 줄이기 차이 (결과값 비교)"
   ]
  },
  {
   "cell_type": "code",
   "execution_count": 26,
   "metadata": {},
   "outputs": [],
   "source": [
    "from sklearn.datasets import load_digits\n",
    "from sklearn.model_selection import train_test_split\n",
    "from sklearn.linear_model import LogisticRegression\n",
    "from sklearn.metrics import accuracy_score"
   ]
  },
  {
   "attachments": {},
   "cell_type": "markdown",
   "metadata": {},
   "source": [
    "# 데이터 불러오기"
   ]
  },
  {
   "cell_type": "code",
   "execution_count": 27,
   "metadata": {},
   "outputs": [
    {
     "name": "stdout",
     "output_type": "stream",
     "text": [
      "1797\n",
      "1797\n",
      "[[ 0.  0.  7. ... 16. 16. 13.]\n",
      " [ 0.  0.  0. ... 16.  6.  0.]\n",
      " [ 0.  0.  9. ... 14.  5.  0.]\n",
      " ...\n",
      " [ 0.  2. 15. ...  0.  0.  0.]\n",
      " [ 0.  0.  3. ... 10.  0.  0.]\n",
      " [ 0.  4. 13. ...  0.  0.  0.]]\n"
     ]
    }
   ],
   "source": [
    "# 데이터 불러오기\n",
    "digits = load_digits()\n",
    "\n",
    "# 진짜 차이가 있는지 체크하기 위해서 -> 정규화 하지 않은 데이터로 분류 모델 훈련\n",
    "print(len(digits.data))\n",
    "print(len(digits.target))\n",
    "x_train, x_test, y_train, y_test = train_test_split(digits.data, digits.target, test_size=0.1, random_state=777)\n",
    "\n",
    "print(x_train)\n"
   ]
  },
  {
   "attachments": {},
   "cell_type": "markdown",
   "metadata": {},
   "source": [
    "# 모델 불러오기"
   ]
  },
  {
   "cell_type": "code",
   "execution_count": 36,
   "metadata": {},
   "outputs": [
    {
     "name": "stdout",
     "output_type": "stream",
     "text": [
      "0.9388888888888889\n"
     ]
    }
   ],
   "source": [
    "model = LogisticRegression(max_iter=10000) \n",
    "model.fit(x_train, y_train) \n",
    "y_pred = model.predict(x_test) \n",
    "\n",
    "no_standardScaler_acc_score = accuracy_score(y_test, y_pred)  #정답치 예측치 비교해서 맞으면 1 0 카운트\n",
    "print(no_standardScaler_acc_score)"
   ]
  },
  {
   "attachments": {},
   "cell_type": "markdown",
   "metadata": {},
   "source": [
    "# StandardScaler 적용 후 -> ACC"
   ]
  },
  {
   "cell_type": "code",
   "execution_count": 32,
   "metadata": {},
   "outputs": [
    {
     "name": "stdout",
     "output_type": "stream",
     "text": [
      "0.9444444444444444\n"
     ]
    }
   ],
   "source": [
    "from sklearn.preprocessing import StandardScaler\n",
    "\n",
    "scaler = StandardScaler()\n",
    "x_train_norm = scaler.fit_transform(x_train)\n",
    "x_test_norm = scaler.transform(x_test)\n",
    "model_norm = LogisticRegression() \n",
    "model_norm.fit(x_train_norm, y_train) \n",
    "y_pred_norm = model_norm.predict(x_test_norm)\n",
    "\n",
    "standardScale_acc_score = accuracy_score(y_test, y_pred_norm)\n",
    "print(standardScale_acc_score)"
   ]
  },
  {
   "cell_type": "code",
   "execution_count": null,
   "metadata": {},
   "outputs": [],
   "source": []
  }
 ],
 "metadata": {
  "kernelspec": {
   "display_name": "Python 3",
   "language": "python",
   "name": "python3"
  },
  "language_info": {
   "codemirror_mode": {
    "name": "ipython",
    "version": 3
   },
   "file_extension": ".py",
   "mimetype": "text/x-python",
   "name": "python",
   "nbconvert_exporter": "python",
   "pygments_lexer": "ipython3",
   "version": "3.10.11"
  },
  "orig_nbformat": 4
 },
 "nbformat": 4,
 "nbformat_minor": 2
}
