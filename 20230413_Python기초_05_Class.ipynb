{
  "nbformat": 4,
  "nbformat_minor": 0,
  "metadata": {
    "colab": {
      "provenance": [],
      "authorship_tag": "ABX9TyOFuHDagkZ/Rt0YqoLYy/Yh",
      "include_colab_link": true
    },
    "kernelspec": {
      "name": "python3",
      "display_name": "Python 3"
    },
    "language_info": {
      "name": "python"
    }
  },
  "cells": [
    {
      "cell_type": "markdown",
      "metadata": {
        "id": "view-in-github",
        "colab_type": "text"
      },
      "source": [
        "<a href=\"https://colab.research.google.com/github/unihong/MS-AI-School/blob/main/20230413_Python%EA%B8%B0%EC%B4%88_05_Class.ipynb\" target=\"_parent\"><img src=\"https://colab.research.google.com/assets/colab-badge.svg\" alt=\"Open In Colab\"/></a>"
      ]
    },
    {
      "cell_type": "code",
      "execution_count": null,
      "metadata": {
        "id": "vBgGkhPkCbWH"
      },
      "outputs": [],
      "source": [
        "# Class의 사용법\n",
        "\n",
        "class MyClass: \n",
        "  pass"
      ]
    },
    {
      "cell_type": "code",
      "source": [
        "print(id(MyClass))"
      ],
      "metadata": {
        "colab": {
          "base_uri": "https://localhost:8080/"
        },
        "id": "UzN2SEy7F_kZ",
        "outputId": "62d2f496-2d5d-44bd-ff49-fde5c363187a"
      },
      "execution_count": null,
      "outputs": [
        {
          "output_type": "stream",
          "name": "stdout",
          "text": [
            "47719104\n"
          ]
        }
      ]
    },
    {
      "cell_type": "code",
      "source": [
        "class Person : \n",
        "  Name = ' Default Name'\n",
        "\n",
        "  def Print(self):\n",
        "    print('My Name is {0}'.format(self.Name))"
      ],
      "metadata": {
        "id": "P7_5On7pG6N4"
      },
      "execution_count": null,
      "outputs": []
    },
    {
      "cell_type": "code",
      "source": [
        "p1.Name = '윤하'\n",
        "p1.Print()"
      ],
      "metadata": {
        "colab": {
          "base_uri": "https://localhost:8080/"
        },
        "id": "YKGnZYy_LfRy",
        "outputId": "fb0c1a88-d702-403d-eb8c-6ad162bc5bbb"
      },
      "execution_count": null,
      "outputs": [
        {
          "output_type": "stream",
          "name": "stdout",
          "text": [
            "My Name is 윤하\n"
          ]
        }
      ]
    },
    {
      "cell_type": "code",
      "source": [
        "p1 = Person()\n",
        "p2 = Person()"
      ],
      "metadata": {
        "id": "cQyU1McvMRei"
      },
      "execution_count": null,
      "outputs": []
    },
    {
      "cell_type": "code",
      "source": [
        "p1.Name = '박보검'\n",
        "p2.Name = '민아'\n",
        "p1.Print()\n",
        "p2.Print()"
      ],
      "metadata": {
        "colab": {
          "base_uri": "https://localhost:8080/"
        },
        "id": "9GC21zzSNDVc",
        "outputId": "39393c3f-d0f8-44be-a171-532611e0dad7"
      },
      "execution_count": null,
      "outputs": [
        {
          "output_type": "stream",
          "name": "stdout",
          "text": [
            "My Name is 박보검\n",
            "My Name is 민아\n"
          ]
        }
      ]
    },
    {
      "cell_type": "code",
      "source": [
        "Person.Title = 'New Title'"
      ],
      "metadata": {
        "id": "H7Z0MHTBNuWR"
      },
      "execution_count": null,
      "outputs": []
    },
    {
      "cell_type": "code",
      "source": [
        "#이렇게 하면 나중에 혼란이 온다. 마구잡이로 속성 추가는 안하는게 나음. \n",
        "print(p1.Title)\n",
        "print(p2.Title)"
      ],
      "metadata": {
        "colab": {
          "base_uri": "https://localhost:8080/"
        },
        "id": "foikxcoZN2In",
        "outputId": "ea0888bc-3961-4b11-aa90-cc4b67fd78f5"
      },
      "execution_count": null,
      "outputs": [
        {
          "output_type": "stream",
          "name": "stdout",
          "text": [
            "New Title\n",
            "New Title\n"
          ]
        }
      ]
    },
    {
      "cell_type": "code",
      "source": [
        "p1.Age = 30"
      ],
      "metadata": {
        "id": "t49ix4nxOWKl"
      },
      "execution_count": null,
      "outputs": []
    },
    {
      "cell_type": "code",
      "source": [
        "#일부러 오류\n",
        "print(p1.Age)\n",
        "print(p2.Age)"
      ],
      "metadata": {
        "colab": {
          "base_uri": "https://localhost:8080/",
          "height": 227
        },
        "id": "V1fG-SiiObR2",
        "outputId": "6fa1f024-fd80-427a-b8e6-73313ca92032"
      },
      "execution_count": null,
      "outputs": [
        {
          "output_type": "stream",
          "name": "stdout",
          "text": [
            "30\n"
          ]
        },
        {
          "output_type": "error",
          "ename": "AttributeError",
          "evalue": "ignored",
          "traceback": [
            "\u001b[0;31m---------------------------------------------------------------------------\u001b[0m",
            "\u001b[0;31mAttributeError\u001b[0m                            Traceback (most recent call last)",
            "\u001b[0;32m<ipython-input-147-1d03af2ea9f4>\u001b[0m in \u001b[0;36m<cell line: 3>\u001b[0;34m()\u001b[0m\n\u001b[1;32m      1\u001b[0m \u001b[0;31m#일부러 오류\u001b[0m\u001b[0;34m\u001b[0m\u001b[0;34m\u001b[0m\u001b[0m\n\u001b[1;32m      2\u001b[0m \u001b[0mprint\u001b[0m\u001b[0;34m(\u001b[0m\u001b[0mp1\u001b[0m\u001b[0;34m.\u001b[0m\u001b[0mAge\u001b[0m\u001b[0;34m)\u001b[0m\u001b[0;34m\u001b[0m\u001b[0;34m\u001b[0m\u001b[0m\n\u001b[0;32m----> 3\u001b[0;31m \u001b[0mprint\u001b[0m\u001b[0;34m(\u001b[0m\u001b[0mp2\u001b[0m\u001b[0;34m.\u001b[0m\u001b[0mAge\u001b[0m\u001b[0;34m)\u001b[0m\u001b[0;34m\u001b[0m\u001b[0;34m\u001b[0m\u001b[0m\n\u001b[0m",
            "\u001b[0;31mAttributeError\u001b[0m: 'Person' object has no attribute 'Age'"
          ]
        }
      ]
    },
    {
      "cell_type": "code",
      "source": [
        "#Class의 상속\n",
        "#부모,super\n",
        "class Person : \n",
        "  pass"
      ],
      "metadata": {
        "id": "zEj_79QcPENa"
      },
      "execution_count": null,
      "outputs": []
    },
    {
      "cell_type": "code",
      "source": [
        "#자식,sub\n",
        "class Student (Person):\n",
        "  pass"
      ],
      "metadata": {
        "id": "oQgSTdGAPRJR"
      },
      "execution_count": null,
      "outputs": []
    },
    {
      "cell_type": "code",
      "source": [
        "class Bird:\n",
        "  pass"
      ],
      "metadata": {
        "id": "Qf_NPPVJPjYP"
      },
      "execution_count": null,
      "outputs": []
    },
    {
      "cell_type": "code",
      "source": [
        "p = Person()\n",
        "s = Student()"
      ],
      "metadata": {
        "id": "DpY0K_hFPmxw"
      },
      "execution_count": null,
      "outputs": []
    },
    {
      "cell_type": "code",
      "source": [
        "#isinstance 인스턴스 관계를 확인하는 함수/ object은 다 true,세상의 모든 것은 object에서 시작되었다.\n",
        "isinstance(p, Person)\n",
        "isinstance(s, Person)\n",
        "isinstance(s, object)\n",
        "isinstance(int, object)"
      ],
      "metadata": {
        "colab": {
          "base_uri": "https://localhost:8080/"
        },
        "id": "7HsbQRqmQRkk",
        "outputId": "af596141-9f80-4e22-c718-6795c9ffbc64"
      },
      "execution_count": null,
      "outputs": [
        {
          "output_type": "execute_result",
          "data": {
            "text/plain": [
              "True"
            ]
          },
          "metadata": {},
          "execution_count": 152
        }
      ]
    },
    {
      "cell_type": "code",
      "source": [
        "#생성자 소멸자 메소드\n",
        "class MyClass : \n",
        "  def __init__(self):           #생성자\n",
        "    print('class is created')"
      ],
      "metadata": {
        "id": "dW68U-ARQy7R"
      },
      "execution_count": null,
      "outputs": []
    },
    {
      "cell_type": "code",
      "source": [
        "my = MyClass()\n",
        "del my"
      ],
      "metadata": {
        "colab": {
          "base_uri": "https://localhost:8080/"
        },
        "id": "w6w5ZkGgR7Rb",
        "outputId": "1c96ee78-6ac5-41c3-cced-c24cd4badcf1"
      },
      "execution_count": null,
      "outputs": [
        {
          "output_type": "stream",
          "name": "stdout",
          "text": [
            "class is created\n"
          ]
        }
      ]
    },
    {
      "cell_type": "code",
      "source": [
        "class Person :\n",
        "  Name = ''\n",
        "  Age = 0\n",
        "  def __init__(self, name, age) : \n",
        "    self.Name = name\n",
        "    self.Age = age\n",
        "  def __del__(self):\n",
        "    print('{0} 잘살다 갑니다.'.format(self.Name))\n",
        "\n",
        "  def PrintName(self) :\n",
        "    print(self.Name)\n",
        "    print(self.Age)"
      ],
      "metadata": {
        "id": "-gahj8QgScly"
      },
      "execution_count": null,
      "outputs": []
    },
    {
      "cell_type": "code",
      "source": [
        "p = Person('황비홍',40)\n",
        "p.PrintName()\n",
        "del p"
      ],
      "metadata": {
        "colab": {
          "base_uri": "https://localhost:8080/"
        },
        "id": "I1QDYF0gTIVo",
        "outputId": "6777700a-76ec-4a18-d114-45268d55f9dc"
      },
      "execution_count": null,
      "outputs": [
        {
          "output_type": "stream",
          "name": "stdout",
          "text": [
            "황비홍\n",
            "40\n",
            "황비홍 잘살다 갑니다.\n"
          ]
        }
      ]
    },
    {
      "cell_type": "code",
      "source": [
        "#정적(static) 메소드\n",
        "class CounterManager:\n",
        "  InsCount = 0\n",
        "\n",
        "  def __init__(self):\n",
        "    CounterManager.InsCount += 1\n",
        "  def PrintInstanceCount() :               #정적 메소드로 전환\n",
        "    print('Instance Count : ', CounterManager.InsCount)\n",
        "\n",
        "  StaticCount = staticmethod(PrintInstanceCount)"
      ],
      "metadata": {
        "id": "R7NwTZSjYZ1y"
      },
      "execution_count": null,
      "outputs": []
    },
    {
      "cell_type": "code",
      "source": [
        "a = CounterManager()\n",
        "b = CounterManager()\n",
        "c = CounterManager()"
      ],
      "metadata": {
        "id": "idgX7OQWZQ9G"
      },
      "execution_count": null,
      "outputs": []
    },
    {
      "cell_type": "code",
      "source": [
        "CounterManager.PrintInstanceCount()  #class 직접 사용하는 것은 금기"
      ],
      "metadata": {
        "colab": {
          "base_uri": "https://localhost:8080/"
        },
        "id": "xLlFuOXSZZgd",
        "outputId": "3ff5b838-508b-4d5c-edda-f60c8876afb5"
      },
      "execution_count": null,
      "outputs": [
        {
          "output_type": "stream",
          "name": "stdout",
          "text": [
            "Instance Count :  3\n"
          ]
        }
      ]
    },
    {
      "cell_type": "code",
      "source": [
        "p = CounterManager()\n",
        "p.StaticCount()"
      ],
      "metadata": {
        "colab": {
          "base_uri": "https://localhost:8080/"
        },
        "id": "IfFx2TtzZzLt",
        "outputId": "a674ca0e-959c-4414-d288-b6b2f15496f2"
      },
      "execution_count": null,
      "outputs": [
        {
          "output_type": "stream",
          "name": "stdout",
          "text": [
            "Instance Count :  4\n"
          ]
        }
      ]
    },
    {
      "cell_type": "code",
      "source": [
        "#상속의 심화\n",
        "class Person: \n",
        "\n",
        "  def __init__(self, name, phone) :\n",
        "    self.Name = name\n",
        "    self.Phone = phone\n",
        "\n",
        "  def PrintInfo(self):\n",
        "    print('Info(Name : {0}, Phone {1}'.format(self.Name, self.Phone))\n",
        "\n",
        "  def PrintPersonDate(self):\n",
        "    print('Person(Name : {0}, Phone {1}'.format(self.Name, self.Phone))"
      ],
      "metadata": {
        "id": "xQftaewabXBB"
      },
      "execution_count": null,
      "outputs": []
    },
    {
      "cell_type": "code",
      "source": [
        "class Student(Person):\n",
        "  def __init__(self, name, phone, subject, studentID):\n",
        "    self.Name  = name\n",
        "    self.Phone = phone\n",
        "    self.Subject = subject\n",
        "    self.StudentID = studentID"
      ],
      "metadata": {
        "id": "7HyFS8QKcZyo"
      },
      "execution_count": null,
      "outputs": []
    },
    {
      "cell_type": "code",
      "source": [
        "p = Person('박보검', '010-1111-1111')\n",
        "s = Student('민아', '010-2222-2222', '학생회장', '0001')"
      ],
      "metadata": {
        "id": "nOF3pKSJclK3"
      },
      "execution_count": null,
      "outputs": []
    },
    {
      "cell_type": "code",
      "source": [
        "print(p.__dict__)\n",
        "print(s.__dict__)"
      ],
      "metadata": {
        "colab": {
          "base_uri": "https://localhost:8080/"
        },
        "id": "0aZ4lZH9dKzu",
        "outputId": "7040ef11-3c28-4f05-a945-a60954970167"
      },
      "execution_count": null,
      "outputs": [
        {
          "output_type": "stream",
          "name": "stdout",
          "text": [
            "{'Name': '박보검', 'Phone': '010-1111-1111'}\n",
            "{'Name': '민아', 'Phone': '010-2222-2222', 'Subject': '학생회장', 'StudentID': '0001'}\n"
          ]
        }
      ]
    },
    {
      "cell_type": "code",
      "source": [
        "s.PrintInfo()"
      ],
      "metadata": {
        "colab": {
          "base_uri": "https://localhost:8080/"
        },
        "id": "9k9E46FUebQK",
        "outputId": "f7010b07-b6c9-4c0b-b369-84009448b75c"
      },
      "execution_count": null,
      "outputs": [
        {
          "output_type": "stream",
          "name": "stdout",
          "text": [
            "Info(Name : 민아, Phone 010-2222-2222\n"
          ]
        }
      ]
    },
    {
      "cell_type": "code",
      "source": [
        "#책에 안나옴\n",
        "# 상속관계를 확인\n",
        "issubclass(Student, Person)"
      ],
      "metadata": {
        "colab": {
          "base_uri": "https://localhost:8080/"
        },
        "id": "yDoj5x0pebZ1",
        "outputId": "baa2d3ba-9137-4e54-e20d-0add3e30caac"
      },
      "execution_count": null,
      "outputs": [
        {
          "output_type": "execute_result",
          "data": {
            "text/plain": [
              "True"
            ]
          },
          "metadata": {},
          "execution_count": 182
        }
      ]
    },
    {
      "cell_type": "code",
      "source": [
        "issubclass(Person, Student)"
      ],
      "metadata": {
        "colab": {
          "base_uri": "https://localhost:8080/",
          "height": 172
        },
        "id": "LMsYlR8ReyPU",
        "outputId": "29d4c3df-0e93-486a-ca8e-f6515b1b8085"
      },
      "execution_count": null,
      "outputs": [
        {
          "output_type": "error",
          "ename": "NameError",
          "evalue": "ignored",
          "traceback": [
            "\u001b[0;31m---------------------------------------------------------------------------\u001b[0m",
            "\u001b[0;31mNameError\u001b[0m                                 Traceback (most recent call last)",
            "\u001b[0;32m<ipython-input-5-d59c24376c15>\u001b[0m in \u001b[0;36m<cell line: 1>\u001b[0;34m()\u001b[0m\n\u001b[0;32m----> 1\u001b[0;31m \u001b[0missubclass\u001b[0m\u001b[0;34m(\u001b[0m\u001b[0mPerson\u001b[0m\u001b[0;34m,\u001b[0m \u001b[0mStudent\u001b[0m\u001b[0;34m)\u001b[0m\u001b[0;34m\u001b[0m\u001b[0;34m\u001b[0m\u001b[0m\n\u001b[0m",
            "\u001b[0;31mNameError\u001b[0m: name 'Person' is not defined"
          ]
        }
      ]
    },
    {
      "cell_type": "code",
      "source": [
        "class Student(Person):\n",
        "  def __init__(self, name, phone, subject, studentID):\n",
        "    self.Name  = name\n",
        "    self.Phone = phone\n",
        "    self.Subject = subject\n",
        "    self.StudentID = studentID\n",
        "\n",
        "    Person.__init__(self, name, phone)\n",
        "\n",
        "  def PrintStudentData(self) :\n",
        "    print('Student(Name {0}, StudentID {1})'.format(self.Name, self.StudentID))\n",
        "\n",
        "\n",
        "#덧씌우기\n",
        "  def PrintPersonData(self):\n",
        "    print('{0}님의 전공은 {1}'.format(self.Name, self.Subject))"
      ],
      "metadata": {
        "id": "iUakf0RBe_bz"
      },
      "execution_count": null,
      "outputs": []
    },
    {
      "cell_type": "code",
      "source": [
        "s = Student('민아', '010-2222-2222', 'Computer', '0001')\n",
        "s.PrintStudentData()"
      ],
      "metadata": {
        "colab": {
          "base_uri": "https://localhost:8080/"
        },
        "id": "TGsIIxo4fe-B",
        "outputId": "2149d3fd-dcb9-4210-a7c0-7a8ad5ad9a39"
      },
      "execution_count": null,
      "outputs": [
        {
          "output_type": "stream",
          "name": "stdout",
          "text": [
            "Student(Name 민아, StudentID 0001)\n"
          ]
        }
      ]
    },
    {
      "cell_type": "code",
      "source": [
        "#다중 상속 (안하는게 좋다.)\n",
        "\n",
        "class Tiger : \n",
        "  def Jump(self):\n",
        "    print('호랑이 점프')"
      ],
      "metadata": {
        "id": "HEKkNLGKhLKo"
      },
      "execution_count": null,
      "outputs": []
    },
    {
      "cell_type": "code",
      "source": [
        "class Lion : \n",
        "  def Bite(self):\n",
        "    print('사자의 물기')"
      ],
      "metadata": {
        "id": "P__jJaMKzR3t"
      },
      "execution_count": null,
      "outputs": []
    },
    {
      "cell_type": "code",
      "source": [
        "class Liger(Tiger, Lion) : \n",
        "  def play(self) :\n",
        "    print('라이거의 놀기')"
      ],
      "metadata": {
        "id": "ye2kc-VqzjDx"
      },
      "execution_count": null,
      "outputs": []
    },
    {
      "cell_type": "code",
      "source": [
        "l = Liger()\n",
        "print(l.Jump())\n",
        "print(l.Bite())\n",
        "print(l.play())"
      ],
      "metadata": {
        "colab": {
          "base_uri": "https://localhost:8080/"
        },
        "id": "mk2UQ-K3zyPE",
        "outputId": "2cca327e-8177-4bc2-cfe5-516c50316edb"
      },
      "execution_count": null,
      "outputs": [
        {
          "output_type": "stream",
          "name": "stdout",
          "text": [
            "호랑이 점프\n",
            "None\n",
            "사자의 물기\n",
            "None\n",
            "라이거의 놀기\n",
            "None\n"
          ]
        }
      ]
    },
    {
      "cell_type": "code",
      "source": [
        "print('\\t 탭 \\n 다음줄줄')"
      ],
      "metadata": {
        "id": "6owscxZ8A4-t"
      },
      "execution_count": null,
      "outputs": []
    }
  ]
}